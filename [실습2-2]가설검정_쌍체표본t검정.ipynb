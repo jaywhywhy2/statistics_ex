{
 "cells": [
  {
   "cell_type": "markdown",
   "id": "273ee245-46a4-4198-a963-d992f1ca3c46",
   "metadata": {},
   "source": [
    "# 쌍체 표본 t 검정\n",
    "* t-test for paired(related) samples "
   ]
  },
  {
   "cell_type": "code",
   "execution_count": 1,
   "id": "97387bb8-3662-4735-8724-1bd4a26abf25",
   "metadata": {},
   "outputs": [],
   "source": [
    "import pandas as pd"
   ]
  },
  {
   "cell_type": "code",
   "execution_count": 2,
   "id": "a5412db3-2536-4cca-8829-f0cd337973cd",
   "metadata": {},
   "outputs": [],
   "source": [
    "data_file = \"다이어트약_효과검증.csv\"\n",
    "df = pd.read_csv(f\"datas2/{data_file}\")"
   ]
  },
  {
   "cell_type": "code",
   "execution_count": 3,
   "id": "37277034-8072-45b0-a6c5-cdbeb3812711",
   "metadata": {},
   "outputs": [
    {
     "data": {
      "text/plain": [
       "Index(['다이어트전(kg)', '다이어트후(kg)'], dtype='object')"
      ]
     },
     "execution_count": 3,
     "metadata": {},
     "output_type": "execute_result"
    }
   ],
   "source": [
    "df.columns"
   ]
  },
  {
   "cell_type": "code",
   "execution_count": 4,
   "id": "a034fef8-9a57-4d48-8ee3-d312ab15b8d3",
   "metadata": {},
   "outputs": [
    {
     "data": {
      "text/plain": [
       "0     87.41\n",
       "1     81.05\n",
       "2     60.72\n",
       "3     81.02\n",
       "4     75.75\n",
       "5     85.48\n",
       "6     62.11\n",
       "7     56.56\n",
       "8     85.11\n",
       "9     80.67\n",
       "10    66.65\n",
       "11    59.29\n",
       "12    77.08\n",
       "13    80.08\n",
       "14    82.89\n",
       "15    84.45\n",
       "16    88.72\n",
       "17    67.97\n",
       "18    73.23\n",
       "19    75.32\n",
       "20    58.96\n",
       "21    55.89\n",
       "22    89.54\n",
       "23    73.34\n",
       "24    69.92\n",
       "25    76.70\n",
       "26    72.76\n",
       "27    84.80\n",
       "28    81.31\n",
       "29    77.63\n",
       "30    57.19\n",
       "31    89.08\n",
       "32    68.69\n",
       "33    66.58\n",
       "34    61.49\n",
       "35    67.12\n",
       "36    69.87\n",
       "37    82.98\n",
       "38    72.75\n",
       "39    79.50\n",
       "40    57.93\n",
       "41    65.19\n",
       "42    70.02\n",
       "43    83.36\n",
       "44    78.59\n",
       "45    88.18\n",
       "46    59.97\n",
       "47    82.43\n",
       "48    58.08\n",
       "49    58.60\n",
       "Name: 다이어트전(kg), dtype: float64"
      ]
     },
     "execution_count": 4,
     "metadata": {},
     "output_type": "execute_result"
    }
   ],
   "source": [
    "#다이어트전(kg)\n",
    "before = df['다이어트전(kg)']\n",
    "before"
   ]
  },
  {
   "cell_type": "code",
   "execution_count": 5,
   "id": "9f3ead4f-30d7-4a3e-8980-aa3ca7bef269",
   "metadata": {},
   "outputs": [
    {
     "data": {
      "text/plain": [
       "0    87.41\n",
       "1    81.05\n",
       "2    60.72\n",
       "3    81.02\n",
       "4    75.75\n",
       "Name: 다이어트전(kg), dtype: float64"
      ]
     },
     "execution_count": 5,
     "metadata": {},
     "output_type": "execute_result"
    }
   ],
   "source": [
    "before.head()"
   ]
  },
  {
   "cell_type": "code",
   "execution_count": 6,
   "id": "cea78754-ed4b-4b43-9c01-a4ee80f54a1b",
   "metadata": {},
   "outputs": [],
   "source": [
    "before = df['다이어트후(kg)']"
   ]
  },
  {
   "cell_type": "code",
   "execution_count": 7,
   "id": "61f347f1-4784-496b-80e7-74f1f65836bd",
   "metadata": {},
   "outputs": [
    {
     "data": {
      "text/plain": [
       "0    88.30\n",
       "1    76.21\n",
       "2    53.34\n",
       "3    78.21\n",
       "4    76.74\n",
       "Name: 다이어트후(kg), dtype: float64"
      ]
     },
     "execution_count": 7,
     "metadata": {},
     "output_type": "execute_result"
    }
   ],
   "source": [
    "after = df['다이어트후(kg)']\n",
    "after.head()"
   ]
  },
  {
   "cell_type": "markdown",
   "id": "97d1b105-16c9-435c-b3b0-902fdcffd646",
   "metadata": {},
   "source": [
    "## 정규성 검정\n",
    "- before와 after의 차이(d)가 정규분포를 따르는지 판단하기\n"
   ]
  },
  {
   "cell_type": "code",
   "execution_count": 8,
   "id": "dc2ebbc9-c752-4b7e-9c19-3ed05cf055f8",
   "metadata": {},
   "outputs": [],
   "source": [
    "from scipy import stats as st\n",
    "import pandas as pd"
   ]
  },
  {
   "cell_type": "code",
   "execution_count": 9,
   "id": "a2ee62de-024e-460f-8c23-c4333e22f249",
   "metadata": {},
   "outputs": [],
   "source": [
    "data_file = \"다이어트약_효과검증.csv\"\n",
    "df = pd.read_csv(f\"datas2/{data_file}\")"
   ]
  },
  {
   "cell_type": "code",
   "execution_count": 11,
   "id": "441f9f38-be5b-498e-9545-3a722c646b8c",
   "metadata": {},
   "outputs": [
    {
     "data": {
      "text/plain": [
       "ShapiroResult(statistic=np.float64(1.0), pvalue=np.float64(1.0))"
      ]
     },
     "execution_count": 11,
     "metadata": {},
     "output_type": "execute_result"
    }
   ],
   "source": [
    "st.shapiro(after - before)"
   ]
  },
  {
   "cell_type": "markdown",
   "id": "8014f1f6-94d1-4fed-aebd-d0920abdc284",
   "metadata": {},
   "source": [
    "[해석]  | p-value > 0.05 이므로, 정규분포를 따른다는 것을 알 수 있음\n",
    "\n",
    "* 방법2 : D'Agostino-Pearson 검정"
   ]
  },
  {
   "cell_type": "code",
   "execution_count": 24,
   "id": "cdf4e16e-667e-447b-b81c-dc6f01a82bfe",
   "metadata": {},
   "outputs": [
    {
     "data": {
      "text/plain": [
       "NormaltestResult(statistic=np.float64(nan), pvalue=np.float64(nan))"
      ]
     },
     "execution_count": 24,
     "metadata": {},
     "output_type": "execute_result"
    }
   ],
   "source": [
    "st.normaltest(after - before)"
   ]
  },
  {
   "cell_type": "markdown",
   "id": "87fcf91b-5bc3-477f-987d-149d3818a51e",
   "metadata": {},
   "source": [
    "[해석] | p-value > 0.05 이므로, 정규분포를 따른다는 것을 알 수 있음"
   ]
  },
  {
   "cell_type": "code",
   "execution_count": null,
   "id": "c6343e6d-601e-4b5e-8883-d437c6a9a2db",
   "metadata": {},
   "outputs": [],
   "source": []
  },
  {
   "cell_type": "code",
   "execution_count": null,
   "id": "7bdd4814-e3a7-4ae9-ac6a-21136300b574",
   "metadata": {},
   "outputs": [],
   "source": []
  },
  {
   "cell_type": "code",
   "execution_count": null,
   "id": "d0d39af4-7492-44eb-b375-656550c72721",
   "metadata": {},
   "outputs": [],
   "source": []
  }
 ],
 "metadata": {
  "kernelspec": {
   "display_name": "eda_env",
   "language": "python",
   "name": "eda_env"
  },
  "language_info": {
   "codemirror_mode": {
    "name": "ipython",
    "version": 3
   },
   "file_extension": ".py",
   "mimetype": "text/x-python",
   "name": "python",
   "nbconvert_exporter": "python",
   "pygments_lexer": "ipython3",
   "version": "3.10.19"
  }
 },
 "nbformat": 4,
 "nbformat_minor": 5
}

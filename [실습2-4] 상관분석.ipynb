{
 "cells": [
  {
   "cell_type": "markdown",
   "id": "ed71c150-547a-4441-8ea0-0180b5e6c06a",
   "metadata": {},
   "source": [
    "# 상관분석"
   ]
  },
  {
   "cell_type": "code",
   "execution_count": 1,
   "id": "4a3bffdc-ed04-4790-85c2-faf577114b8c",
   "metadata": {},
   "outputs": [],
   "source": [
    "import pandas as pd"
   ]
  },
  {
   "cell_type": "code",
   "execution_count": 2,
   "id": "b285fc10-bb21-42e2-b820-b5ce5829cd44",
   "metadata": {},
   "outputs": [],
   "source": [
    "df = pd.read_excel(\"datas2/일별_금은달러.xlsx\")"
   ]
  },
  {
   "cell_type": "code",
   "execution_count": 3,
   "id": "0189dfe8-f943-4c00-9222-c772b116e8e0",
   "metadata": {},
   "outputs": [
    {
     "data": {
      "text/html": [
       "<div>\n",
       "<style scoped>\n",
       "    .dataframe tbody tr th:only-of-type {\n",
       "        vertical-align: middle;\n",
       "    }\n",
       "\n",
       "    .dataframe tbody tr th {\n",
       "        vertical-align: top;\n",
       "    }\n",
       "\n",
       "    .dataframe thead th {\n",
       "        text-align: right;\n",
       "    }\n",
       "</style>\n",
       "<table border=\"1\" class=\"dataframe\">\n",
       "  <thead>\n",
       "    <tr style=\"text-align: right;\">\n",
       "      <th></th>\n",
       "      <th>일자</th>\n",
       "      <th>금값</th>\n",
       "      <th>은값</th>\n",
       "      <th>달러 환율</th>\n",
       "    </tr>\n",
       "  </thead>\n",
       "  <tbody>\n",
       "    <tr>\n",
       "      <th>0</th>\n",
       "      <td>2020.08.07</td>\n",
       "      <td>78538.90</td>\n",
       "      <td>27.53</td>\n",
       "      <td>1188.5</td>\n",
       "    </tr>\n",
       "    <tr>\n",
       "      <th>1</th>\n",
       "      <td>2020.08.06</td>\n",
       "      <td>78009.22</td>\n",
       "      <td>28.39</td>\n",
       "      <td>1185.5</td>\n",
       "    </tr>\n",
       "    <tr>\n",
       "      <th>2</th>\n",
       "      <td>2020.08.05</td>\n",
       "      <td>77748.00</td>\n",
       "      <td>26.88</td>\n",
       "      <td>1188.0</td>\n",
       "    </tr>\n",
       "    <tr>\n",
       "      <th>3</th>\n",
       "      <td>2020.08.04</td>\n",
       "      <td>75873.57</td>\n",
       "      <td>26.01</td>\n",
       "      <td>1194.5</td>\n",
       "    </tr>\n",
       "    <tr>\n",
       "      <th>4</th>\n",
       "      <td>2020.08.03</td>\n",
       "      <td>75761.76</td>\n",
       "      <td>24.39</td>\n",
       "      <td>1195.7</td>\n",
       "    </tr>\n",
       "  </tbody>\n",
       "</table>\n",
       "</div>"
      ],
      "text/plain": [
       "           일자        금값     은값   달러 환율\n",
       "0  2020.08.07  78538.90  27.53  1188.5\n",
       "1  2020.08.06  78009.22  28.39  1185.5\n",
       "2  2020.08.05  77748.00  26.88  1188.0\n",
       "3  2020.08.04  75873.57  26.01  1194.5\n",
       "4  2020.08.03  75761.76  24.39  1195.7"
      ]
     },
     "execution_count": 3,
     "metadata": {},
     "output_type": "execute_result"
    }
   ],
   "source": [
    "df.head()"
   ]
  },
  {
   "cell_type": "code",
   "execution_count": 4,
   "id": "d6eb3ad3-cfcd-445d-aecc-af1e9849d93d",
   "metadata": {},
   "outputs": [
    {
     "name": "stdout",
     "output_type": "stream",
     "text": [
      "<class 'pandas.core.frame.DataFrame'>\n",
      "RangeIndex: 28 entries, 0 to 27\n",
      "Data columns (total 4 columns):\n",
      " #   Column  Non-Null Count  Dtype  \n",
      "---  ------  --------------  -----  \n",
      " 0   일자      28 non-null     object \n",
      " 1   금값      28 non-null     float64\n",
      " 2   은값      28 non-null     float64\n",
      " 3   달러 환율   28 non-null     float64\n",
      "dtypes: float64(3), object(1)\n",
      "memory usage: 1.0+ KB\n"
     ]
    }
   ],
   "source": [
    "df.info()"
   ]
  },
  {
   "cell_type": "code",
   "execution_count": 5,
   "id": "d89e6dc2-fa3b-4e08-85d7-de22263bce93",
   "metadata": {},
   "outputs": [
    {
     "data": {
      "text/html": [
       "<div>\n",
       "<style scoped>\n",
       "    .dataframe tbody tr th:only-of-type {\n",
       "        vertical-align: middle;\n",
       "    }\n",
       "\n",
       "    .dataframe tbody tr th {\n",
       "        vertical-align: top;\n",
       "    }\n",
       "\n",
       "    .dataframe thead th {\n",
       "        text-align: right;\n",
       "    }\n",
       "</style>\n",
       "<table border=\"1\" class=\"dataframe\">\n",
       "  <thead>\n",
       "    <tr style=\"text-align: right;\">\n",
       "      <th></th>\n",
       "      <th>금값</th>\n",
       "      <th>은값</th>\n",
       "      <th>달러 환율</th>\n",
       "    </tr>\n",
       "  </thead>\n",
       "  <tbody>\n",
       "    <tr>\n",
       "      <th>count</th>\n",
       "      <td>28.000000</td>\n",
       "      <td>28.000000</td>\n",
       "      <td>28.000000</td>\n",
       "    </tr>\n",
       "    <tr>\n",
       "      <th>mean</th>\n",
       "      <td>72081.844643</td>\n",
       "      <td>21.830000</td>\n",
       "      <td>1197.721429</td>\n",
       "    </tr>\n",
       "    <tr>\n",
       "      <th>std</th>\n",
       "      <td>3309.328985</td>\n",
       "      <td>3.143131</td>\n",
       "      <td>5.459844</td>\n",
       "    </tr>\n",
       "    <tr>\n",
       "      <th>min</th>\n",
       "      <td>68269.270000</td>\n",
       "      <td>18.130000</td>\n",
       "      <td>1185.500000</td>\n",
       "    </tr>\n",
       "    <tr>\n",
       "      <th>25%</th>\n",
       "      <td>69744.952500</td>\n",
       "      <td>19.055000</td>\n",
       "      <td>1194.875000</td>\n",
       "    </tr>\n",
       "    <tr>\n",
       "      <th>50%</th>\n",
       "      <td>70117.345000</td>\n",
       "      <td>20.810000</td>\n",
       "      <td>1197.000000</td>\n",
       "    </tr>\n",
       "    <tr>\n",
       "      <th>75%</th>\n",
       "      <td>75110.485000</td>\n",
       "      <td>24.277500</td>\n",
       "      <td>1203.000000</td>\n",
       "    </tr>\n",
       "    <tr>\n",
       "      <th>max</th>\n",
       "      <td>78538.900000</td>\n",
       "      <td>28.390000</td>\n",
       "      <td>1206.500000</td>\n",
       "    </tr>\n",
       "  </tbody>\n",
       "</table>\n",
       "</div>"
      ],
      "text/plain": [
       "                 금값         은값        달러 환율\n",
       "count     28.000000  28.000000    28.000000\n",
       "mean   72081.844643  21.830000  1197.721429\n",
       "std     3309.328985   3.143131     5.459844\n",
       "min    68269.270000  18.130000  1185.500000\n",
       "25%    69744.952500  19.055000  1194.875000\n",
       "50%    70117.345000  20.810000  1197.000000\n",
       "75%    75110.485000  24.277500  1203.000000\n",
       "max    78538.900000  28.390000  1206.500000"
      ]
     },
     "execution_count": 5,
     "metadata": {},
     "output_type": "execute_result"
    }
   ],
   "source": [
    "df.describe()"
   ]
  },
  {
   "cell_type": "code",
   "execution_count": 6,
   "id": "a43819b2-7245-4c58-8ddf-479d5ae21b08",
   "metadata": {},
   "outputs": [
    {
     "data": {
      "text/html": [
       "<div>\n",
       "<style scoped>\n",
       "    .dataframe tbody tr th:only-of-type {\n",
       "        vertical-align: middle;\n",
       "    }\n",
       "\n",
       "    .dataframe tbody tr th {\n",
       "        vertical-align: top;\n",
       "    }\n",
       "\n",
       "    .dataframe thead th {\n",
       "        text-align: right;\n",
       "    }\n",
       "</style>\n",
       "<table border=\"1\" class=\"dataframe\">\n",
       "  <thead>\n",
       "    <tr style=\"text-align: right;\">\n",
       "      <th></th>\n",
       "      <th>일자</th>\n",
       "      <th>금값</th>\n",
       "      <th>은값</th>\n",
       "      <th>달러 환율</th>\n",
       "    </tr>\n",
       "  </thead>\n",
       "  <tbody>\n",
       "    <tr>\n",
       "      <th>27</th>\n",
       "      <td>2020.06.30</td>\n",
       "      <td>68559.78</td>\n",
       "      <td>18.54</td>\n",
       "      <td>1203.0</td>\n",
       "    </tr>\n",
       "    <tr>\n",
       "      <th>26</th>\n",
       "      <td>2020.07.01</td>\n",
       "      <td>68941.28</td>\n",
       "      <td>18.13</td>\n",
       "      <td>1203.5</td>\n",
       "    </tr>\n",
       "    <tr>\n",
       "      <th>25</th>\n",
       "      <td>2020.07.02</td>\n",
       "      <td>68278.07</td>\n",
       "      <td>18.24</td>\n",
       "      <td>1199.0</td>\n",
       "    </tr>\n",
       "    <tr>\n",
       "      <th>24</th>\n",
       "      <td>2020.07.06</td>\n",
       "      <td>68269.27</td>\n",
       "      <td>18.50</td>\n",
       "      <td>1194.0</td>\n",
       "    </tr>\n",
       "    <tr>\n",
       "      <th>23</th>\n",
       "      <td>2020.07.07</td>\n",
       "      <td>68443.14</td>\n",
       "      <td>18.63</td>\n",
       "      <td>1197.0</td>\n",
       "    </tr>\n",
       "  </tbody>\n",
       "</table>\n",
       "</div>"
      ],
      "text/plain": [
       "            일자        금값     은값   달러 환율\n",
       "27  2020.06.30  68559.78  18.54  1203.0\n",
       "26  2020.07.01  68941.28  18.13  1203.5\n",
       "25  2020.07.02  68278.07  18.24  1199.0\n",
       "24  2020.07.06  68269.27  18.50  1194.0\n",
       "23  2020.07.07  68443.14  18.63  1197.0"
      ]
     },
     "execution_count": 6,
     "metadata": {},
     "output_type": "execute_result"
    }
   ],
   "source": [
    "df = df.sort_values(by = '일자')\n",
    "df.head()"
   ]
  },
  {
   "cell_type": "markdown",
   "id": "f3aa96a7-4552-4752-b09c-0c68cbb65895",
   "metadata": {},
   "source": [
    "## 시각화 하기"
   ]
  },
  {
   "cell_type": "code",
   "execution_count": 7,
   "id": "86acad87-e6c3-4b66-9a4e-e58b951c4d86",
   "metadata": {},
   "outputs": [],
   "source": [
    "from matplotlib import pyplot as plt\n",
    "# 시각화의 기본은 matplotlib (세밀한 조정도 가능)\n",
    "\n",
    "import numpy as np"
   ]
  },
  {
   "cell_type": "code",
   "execution_count": 8,
   "id": "419391fe-1e7b-410e-bee3-3fbd23127587",
   "metadata": {},
   "outputs": [
    {
     "data": {
      "text/plain": [
       "<matplotlib.collections.PathCollection at 0x11717e63940>"
      ]
     },
     "execution_count": 8,
     "metadata": {},
     "output_type": "execute_result"
    },
    {
     "data": {
      "image/png": "[encoded data removed]",
      "text/plain": [
       "<Figure size 640x480 with 1 Axes>"
      ]
     },
     "metadata": {},
     "output_type": "display_data"
    }
   ],
   "source": [
    "plt.scatter(df['일자'],df['금값'])"
   ]
  },
  {
   "cell_type": "code",
   "execution_count": 9,
   "id": "f87fbbbc-aec8-4d1b-9f83-9a2d3f3476fc",
   "metadata": {},
   "outputs": [
    {
     "data": {
      "text/plain": [
       "<matplotlib.collections.PathCollection at 0x11719102170>"
      ]
     },
     "execution_count": 9,
     "metadata": {},
     "output_type": "execute_result"
    },
    {
     "data": {
      "image/png": "[encoded data removed]",
      "text/plain": [
       "<Figure size 640x480 with 1 Axes>"
      ]
     },
     "metadata": {},
     "output_type": "display_data"
    }
   ],
   "source": [
    "plt.scatter(df['일자'],df['금값'])"
   ]
  },
  {
   "cell_type": "code",
   "execution_count": 11,
   "id": "16f6301e-8cdb-42aa-b276-39336278eff4",
   "metadata": {},
   "outputs": [
    {
     "data": {
      "text/plain": [
       "<matplotlib.collections.PathCollection at 0x1171b94feb0>"
      ]
     },
     "execution_count": 11,
     "metadata": {},
     "output_type": "execute_result"
    },
    {
     "data": {
      "image/png": "[encoded data removed]",
      "text/plain": [
       "<Figure size 640x480 with 1 Axes>"
      ]
     },
     "metadata": {},
     "output_type": "display_data"
    }
   ],
   "source": [
    "plt.scatter(df['일자'],df['금값'])"
   ]
  },
  {
   "cell_type": "code",
   "execution_count": 13,
   "id": "640c6f1a-d8aa-403f-b4ba-6a81fe1cd1c4",
   "metadata": {},
   "outputs": [
    {
     "data": {
      "image/png": "[encoded data removed]",
      "text/plain": [
       "<Figure size 640x480 with 1 Axes>"
      ]
     },
     "metadata": {},
     "output_type": "display_data"
    }
   ],
   "source": [
    "plt.scatter(df['일자'],df['금값'])\n",
    "plt.scatter(df['일자'],df['은값'])\n",
    "plt.scatter(df['일자'],df['달러 환율'])\n",
    "plt.show() #이 부분을 안해도 보여주기는 하지만, \n",
    "# 이는 데이터에 저장된 것을 보여주는 것이고, \n",
    "# show를 해주어야 이것을 출력하겠다는 명령을 입력한 것."
   ]
  },
  {
   "cell_type": "code",
   "execution_count": 15,
   "id": "a083da13-64d0-4d80-82a2-e6f281dbf89d",
   "metadata": {},
   "outputs": [],
   "source": [
    "#한글을 포함하여 디자인적으로도, 데이터에 올려놓는 것이 필요!\n",
    "# 순서대로 글꼴(기본 아니면 다운 해야 함)/사이즈/차트의 가로세로 사이즈\n",
    "plt.rcParams[\"font.family\"] = 'Malgun Gothic'\n",
    "plt.rcParams[\"font.size\"] = 20\n",
    "plt.rcParams[\"figure.figsize\"] = (10, 8) #(행,열)"
   ]
  },
  {
   "cell_type": "code",
   "execution_count": 17,
   "id": "5616fc45-e4ef-4020-8495-10a9efd2d0a3",
   "metadata": {},
   "outputs": [
    {
     "data": {
      "image/png": "[encoded data removed]",
      "text/plain": [
       "<Figure size 1000x800 with 1 Axes>"
      ]
     },
     "metadata": {},
     "output_type": "display_data"
    }
   ],
   "source": [
    "plt.scatter(df['일자'],df['금값'])\n",
    "plt.scatter(df['일자'],df['은값'])\n",
    "plt.scatter(df['일자'],df['달러 환율'])\n",
    "plt.xticks(df['일자'].iloc[::8])\n",
    "#i=index, loc=location\n",
    "# > 그냥 loc는 사람 눈에 보이는 index, iloc는 컴퓨터가 지정하고 있는 것.\n",
    "# 명령어 해석 : 8개씩 넘어가면서 하겠다.\n",
    "plt.title(\"2020년 금/은/달러환율의 변화\")\n",
    "plt.show()"
   ]
  },
  {
   "cell_type": "code",
   "execution_count": 20,
   "id": "644cb49a-2db0-4e38-9943-3892a3670411",
   "metadata": {},
   "outputs": [
    {
     "data": {
      "image/png": "[encoded data removed]",
      "text/plain": [
       "<Figure size 1000x800 with 1 Axes>"
      ]
     },
     "metadata": {},
     "output_type": "display_data"
    }
   ],
   "source": [
    "plt.scatter(df['일자'],df['금값'])\n",
    "plt.xticks(df['일자'].iloc[::8])\n",
    "plt.title(\"2020년 금값의 변화\")\n",
    "plt.xlabel(\"일자\")\n",
    "plt.ylabel(\"금값\")\n",
    "plt.show()\n",
    "\n",
    "#시각적인 부분은 위에서 한번만 데이터 올려두면 계속 적용되는 것을 볼 수 있음."
   ]
  },
  {
   "cell_type": "markdown",
   "id": "7f2710e2-bdc6-415c-8654-e7e34cb0c8cf",
   "metadata": {},
   "source": [
    "## scatter matrix"
   ]
  },
  {
   "cell_type": "code",
   "execution_count": 22,
   "id": "893a07c3-a882-41d4-82e6-42294f3b9024",
   "metadata": {},
   "outputs": [
    {
     "data": {
      "text/html": [
       "<div>\n",
       "<style scoped>\n",
       "    .dataframe tbody tr th:only-of-type {\n",
       "        vertical-align: middle;\n",
       "    }\n",
       "\n",
       "    .dataframe tbody tr th {\n",
       "        vertical-align: top;\n",
       "    }\n",
       "\n",
       "    .dataframe thead th {\n",
       "        text-align: right;\n",
       "    }\n",
       "</style>\n",
       "<table border=\"1\" class=\"dataframe\">\n",
       "  <thead>\n",
       "    <tr style=\"text-align: right;\">\n",
       "      <th></th>\n",
       "      <th>금값</th>\n",
       "      <th>은값</th>\n",
       "      <th>달러 환율</th>\n",
       "    </tr>\n",
       "  </thead>\n",
       "  <tbody>\n",
       "    <tr>\n",
       "      <th>27</th>\n",
       "      <td>68559.78</td>\n",
       "      <td>18.54</td>\n",
       "      <td>1203.0</td>\n",
       "    </tr>\n",
       "    <tr>\n",
       "      <th>26</th>\n",
       "      <td>68941.28</td>\n",
       "      <td>18.13</td>\n",
       "      <td>1203.5</td>\n",
       "    </tr>\n",
       "    <tr>\n",
       "      <th>25</th>\n",
       "      <td>68278.07</td>\n",
       "      <td>18.24</td>\n",
       "      <td>1199.0</td>\n",
       "    </tr>\n",
       "    <tr>\n",
       "      <th>24</th>\n",
       "      <td>68269.27</td>\n",
       "      <td>18.50</td>\n",
       "      <td>1194.0</td>\n",
       "    </tr>\n",
       "    <tr>\n",
       "      <th>23</th>\n",
       "      <td>68443.14</td>\n",
       "      <td>18.63</td>\n",
       "      <td>1197.0</td>\n",
       "    </tr>\n",
       "    <tr>\n",
       "      <th>22</th>\n",
       "      <td>69184.17</td>\n",
       "      <td>19.08</td>\n",
       "      <td>1195.0</td>\n",
       "    </tr>\n",
       "    <tr>\n",
       "      <th>21</th>\n",
       "      <td>69748.21</td>\n",
       "      <td>18.88</td>\n",
       "      <td>1195.0</td>\n",
       "    </tr>\n",
       "    <tr>\n",
       "      <th>20</th>\n",
       "      <td>69735.18</td>\n",
       "      <td>18.98</td>\n",
       "      <td>1201.0</td>\n",
       "    </tr>\n",
       "    <tr>\n",
       "      <th>19</th>\n",
       "      <td>69933.64</td>\n",
       "      <td>19.71</td>\n",
       "      <td>1203.0</td>\n",
       "    </tr>\n",
       "    <tr>\n",
       "      <th>18</th>\n",
       "      <td>69827.02</td>\n",
       "      <td>19.45</td>\n",
       "      <td>1206.5</td>\n",
       "    </tr>\n",
       "    <tr>\n",
       "      <th>17</th>\n",
       "      <td>70004.80</td>\n",
       "      <td>19.68</td>\n",
       "      <td>1201.0</td>\n",
       "    </tr>\n",
       "    <tr>\n",
       "      <th>16</th>\n",
       "      <td>69966.63</td>\n",
       "      <td>19.50</td>\n",
       "      <td>1205.0</td>\n",
       "    </tr>\n",
       "    <tr>\n",
       "      <th>15</th>\n",
       "      <td>69793.91</td>\n",
       "      <td>19.68</td>\n",
       "      <td>1205.0</td>\n",
       "    </tr>\n",
       "    <tr>\n",
       "      <th>14</th>\n",
       "      <td>70104.72</td>\n",
       "      <td>20.12</td>\n",
       "      <td>1203.0</td>\n",
       "    </tr>\n",
       "    <tr>\n",
       "      <th>13</th>\n",
       "      <td>70129.97</td>\n",
       "      <td>21.50</td>\n",
       "      <td>1196.0</td>\n",
       "    </tr>\n",
       "    <tr>\n",
       "      <th>12</th>\n",
       "      <td>71170.07</td>\n",
       "      <td>23.08</td>\n",
       "      <td>1197.0</td>\n",
       "    </tr>\n",
       "    <tr>\n",
       "      <th>11</th>\n",
       "      <td>72451.43</td>\n",
       "      <td>22.95</td>\n",
       "      <td>1198.5</td>\n",
       "    </tr>\n",
       "    <tr>\n",
       "      <th>10</th>\n",
       "      <td>73293.98</td>\n",
       "      <td>22.81</td>\n",
       "      <td>1204.0</td>\n",
       "    </tr>\n",
       "    <tr>\n",
       "      <th>9</th>\n",
       "      <td>74332.14</td>\n",
       "      <td>24.48</td>\n",
       "      <td>1197.0</td>\n",
       "    </tr>\n",
       "    <tr>\n",
       "      <th>8</th>\n",
       "      <td>74342.85</td>\n",
       "      <td>24.27</td>\n",
       "      <td>1199.5</td>\n",
       "    </tr>\n",
       "    <tr>\n",
       "      <th>7</th>\n",
       "      <td>75110.45</td>\n",
       "      <td>24.30</td>\n",
       "      <td>1194.0</td>\n",
       "    </tr>\n",
       "    <tr>\n",
       "      <th>6</th>\n",
       "      <td>75110.59</td>\n",
       "      <td>23.34</td>\n",
       "      <td>1196.0</td>\n",
       "    </tr>\n",
       "    <tr>\n",
       "      <th>5</th>\n",
       "      <td>75628.90</td>\n",
       "      <td>24.19</td>\n",
       "      <td>1191.0</td>\n",
       "    </tr>\n",
       "    <tr>\n",
       "      <th>4</th>\n",
       "      <td>75761.76</td>\n",
       "      <td>24.39</td>\n",
       "      <td>1195.7</td>\n",
       "    </tr>\n",
       "    <tr>\n",
       "      <th>3</th>\n",
       "      <td>75873.57</td>\n",
       "      <td>26.01</td>\n",
       "      <td>1194.5</td>\n",
       "    </tr>\n",
       "    <tr>\n",
       "      <th>2</th>\n",
       "      <td>77748.00</td>\n",
       "      <td>26.88</td>\n",
       "      <td>1188.0</td>\n",
       "    </tr>\n",
       "    <tr>\n",
       "      <th>1</th>\n",
       "      <td>78009.22</td>\n",
       "      <td>28.39</td>\n",
       "      <td>1185.5</td>\n",
       "    </tr>\n",
       "    <tr>\n",
       "      <th>0</th>\n",
       "      <td>78538.90</td>\n",
       "      <td>27.53</td>\n",
       "      <td>1188.5</td>\n",
       "    </tr>\n",
       "  </tbody>\n",
       "</table>\n",
       "</div>"
      ],
      "text/plain": [
       "          금값     은값   달러 환율\n",
       "27  68559.78  18.54  1203.0\n",
       "26  68941.28  18.13  1203.5\n",
       "25  68278.07  18.24  1199.0\n",
       "24  68269.27  18.50  1194.0\n",
       "23  68443.14  18.63  1197.0\n",
       "22  69184.17  19.08  1195.0\n",
       "21  69748.21  18.88  1195.0\n",
       "20  69735.18  18.98  1201.0\n",
       "19  69933.64  19.71  1203.0\n",
       "18  69827.02  19.45  1206.5\n",
       "17  70004.80  19.68  1201.0\n",
       "16  69966.63  19.50  1205.0\n",
       "15  69793.91  19.68  1205.0\n",
       "14  70104.72  20.12  1203.0\n",
       "13  70129.97  21.50  1196.0\n",
       "12  71170.07  23.08  1197.0\n",
       "11  72451.43  22.95  1198.5\n",
       "10  73293.98  22.81  1204.0\n",
       "9   74332.14  24.48  1197.0\n",
       "8   74342.85  24.27  1199.5\n",
       "7   75110.45  24.30  1194.0\n",
       "6   75110.59  23.34  1196.0\n",
       "5   75628.90  24.19  1191.0\n",
       "4   75761.76  24.39  1195.7\n",
       "3   75873.57  26.01  1194.5\n",
       "2   77748.00  26.88  1188.0\n",
       "1   78009.22  28.39  1185.5\n",
       "0   78538.90  27.53  1188.5"
      ]
     },
     "execution_count": 22,
     "metadata": {},
     "output_type": "execute_result"
    }
   ],
   "source": [
    "df.drop('일자', axis = 1)\n",
    "# df.drop() : DataFrame에서 행이나 열을 제거하는 method\n",
    "# '일자' : 제거할 열의 이름, axis =1 : 열을 제거하라는 의미, axis=0은 행 제거"
   ]
  },
  {
   "cell_type": "code",
   "execution_count": 21,
   "id": "92f8a181-13a6-4d09-8662-3c911a14d6a4",
   "metadata": {},
   "outputs": [
    {
     "data": {
      "image/png": "[encoded data removed]",
      "text/plain": [
       "<Figure size 1000x800 with 9 Axes>"
      ]
     },
     "metadata": {},
     "output_type": "display_data"
    }
   ],
   "source": [
    "#scatter matrix\n",
    "\n",
    "pd.plotting.scatter_matrix(df.drop('일자', axis = 1))\n",
    "plt.show()\n",
    "\n",
    "#복합적으로 할때는 항상 괄호 안쪽부터 먼저 실행\n",
    "#pd.plotting.scatter_matrix < DataFrmae의 모든 수치형 열들 간의 관계를 시각화"
   ]
  },
  {
   "cell_type": "markdown",
   "id": "e656ace2-bd67-42d1-8aa4-f3311afbb4a7",
   "metadata": {},
   "source": [
    "#### 산점도 행렬이란?\n",
    "\n",
    "* 각 변수 쌍에 대한 산점도를 격자 형태로 배치\n",
    "* 대각선에는 각 변수의 히스토그램 또는 커널 밀도 추정(KDE) 표시\n",
    "* 여러 변수 간의 상관관계를 한눈에 파악 가능"
   ]
  },
  {
   "cell_type": "markdown",
   "id": "985352e9-3506-498e-84a4-91595136deee",
   "metadata": {},
   "source": [
    "## 피어슨 상관 계수"
   ]
  },
  {
   "cell_type": "code",
   "execution_count": 34,
   "id": "0b63f095-e25d-4f08-8dfd-74bcb8e219c0",
   "metadata": {
    "scrolled": true
   },
   "outputs": [
    {
     "name": "stdout",
     "output_type": "stream",
     "text": [
      "PearsonRResult(statistic=np.float64(0.9718640116033498), pvalue=np.float64(7.508878356556179e-18))\n",
      "PearsonRResult(statistic=np.float64(-0.6793266264341937), pvalue=np.float64(7.033325258452261e-05))\n",
      "PearsonRResult(statistic=np.float64(-0.695456955620356), pvalue=np.float64(3.9890420619579584e-05))\n"
     ]
    }
   ],
   "source": [
    "from scipy import stats\n",
    "# import scipy.stats 라고 해도 위 행이랑 동일한 의미이지만,\n",
    "# 그러면 이후 calling할때 scipy.stats라고 해야 함. 그래서 as st를 해두는 게 좋음\n",
    "# 궁금증 : 과연 이미 from 으로 업로드 해두었는데 새 파일에서도 될 것인가?\n",
    "print(stats.pearsonr(df['금값'], df['은값']))\n",
    "print(stats.pearsonr(df['금값'], df['달러 환율']))\n",
    "print(stats.pearsonr(df['은값'], df['달러 환율']))"
   ]
  },
  {
   "cell_type": "markdown",
   "id": "bc1db7b7-c793-43cf-a2dc-9231c230bcc1",
   "metadata": {},
   "source": [
    "[해석]\n",
    "* 금값, 은값 : 강력한 양의 상관관계\n",
    "* 금값, 달러 : 음의 상관계\n",
    "* 은값, 달러 : 음의 상관계\n",
    "\n",
    "[보기좋게 출력하려면,]"
   ]
  },
  {
   "cell_type": "code",
   "execution_count": 30,
   "id": "9f8c397c-3129-4940-ba4d-04cdba6d26c5",
   "metadata": {},
   "outputs": [
    {
     "name": "stdout",
     "output_type": "stream",
     "text": [
      "금값 ~ 은값: coef:0.9718640116033498, p-value: 7.508878356556179e-18\n",
      "금값 ~ 달러 환율: coef:-0.6793266264341937, p-value: 7.033325258452261e-05\n",
      "은값 ~ 달러 환율: coef:-0.695456955620356, p-value: 3.9890420619579584e-05\n"
     ]
    }
   ],
   "source": [
    "import itertools\n",
    "target_columns = ['금값', '은값', '달러 환율']\n",
    "# 좀더 실수를 줄이려면, target_columns = list(df.columns) 도 가능\n",
    "for col1, col2 in itertools.combinations(target_columns, 2):\n",
    "    result = stats.pearsonr(df[col1], df[col2])\n",
    "    print(\"{} ~ {}: coef:{}, p-value: {}\".format(col1, col2, result[0], result[1]))"
   ]
  },
  {
   "cell_type": "markdown",
   "id": "7294194c-e7bc-4eaf-b054-5174bbb122ee",
   "metadata": {},
   "source": [
    "[해석]\n",
    "* 금과 은은 매우 강한 양의 상관관계\n",
    "* 금/은과 환율은 유의미한 음의 상관관계"
   ]
  },
  {
   "cell_type": "markdown",
   "id": "a69d288b-1109-41de-91f2-1aede2ce1207",
   "metadata": {},
   "source": [
    "## 스피어만 상관계수"
   ]
  },
  {
   "cell_type": "code",
   "execution_count": 32,
   "id": "1bba4c8a-8349-43f3-9d97-37a753aa4ac6",
   "metadata": {},
   "outputs": [
    {
     "name": "stdout",
     "output_type": "stream",
     "text": [
      "금값 ~ 은값: coef:0.9711235892228813, p-value: 1.0481280432981455e-17\n",
      "금값 ~ 달러 환율: coef:-0.5039075855936102, p-value: 0.006257468267109453\n",
      "은값 ~ 달러 환율: coef:-0.528106006718531, p-value: 0.003869997604824081\n"
     ]
    }
   ],
   "source": [
    "import itertools\n",
    "target_columns = ['금값', '은값', '달러 환율']\n",
    "for col1, col2 in itertools.combinations(target_columns, 2):\n",
    "    result = stats.spearmanr(df[col1], df[col2])\n",
    "    print(\"{} ~ {}: coef:{}, p-value: {}\".format(col1, col2, result[0], result[1]))\n",
    "\n",
    "# 근데 이건 자료가 유의미하지 않아서 참고만,"
   ]
  },
  {
   "cell_type": "markdown",
   "id": "3cb5aacb-e651-4a78-9cec-a81946ec1db6",
   "metadata": {},
   "source": [
    "[해석]\n",
    "* 금과 은은 매우 강한 양의 상관관계\n",
    "* 금/은과 환율은 유의미한 음의 상관관계"
   ]
  },
  {
   "cell_type": "markdown",
   "id": "9e26dd63-f3ee-4b84-ac2c-6f4b058332e5",
   "metadata": {},
   "source": [
    "## 데이터 프레임으로 컬럼간 상관계수 계산"
   ]
  },
  {
   "cell_type": "code",
   "execution_count": 35,
   "id": "da2d6f36-8421-4a38-84d6-d4b447152859",
   "metadata": {},
   "outputs": [
    {
     "data": {
      "text/html": [
       "<div>\n",
       "<style scoped>\n",
       "    .dataframe tbody tr th:only-of-type {\n",
       "        vertical-align: middle;\n",
       "    }\n",
       "\n",
       "    .dataframe tbody tr th {\n",
       "        vertical-align: top;\n",
       "    }\n",
       "\n",
       "    .dataframe thead th {\n",
       "        text-align: right;\n",
       "    }\n",
       "</style>\n",
       "<table border=\"1\" class=\"dataframe\">\n",
       "  <thead>\n",
       "    <tr style=\"text-align: right;\">\n",
       "      <th></th>\n",
       "      <th>일자</th>\n",
       "      <th>금값</th>\n",
       "      <th>은값</th>\n",
       "      <th>달러 환율</th>\n",
       "    </tr>\n",
       "  </thead>\n",
       "  <tbody>\n",
       "    <tr>\n",
       "      <th>27</th>\n",
       "      <td>2020.06.30</td>\n",
       "      <td>68559.78</td>\n",
       "      <td>18.54</td>\n",
       "      <td>1203.0</td>\n",
       "    </tr>\n",
       "    <tr>\n",
       "      <th>26</th>\n",
       "      <td>2020.07.01</td>\n",
       "      <td>68941.28</td>\n",
       "      <td>18.13</td>\n",
       "      <td>1203.5</td>\n",
       "    </tr>\n",
       "    <tr>\n",
       "      <th>25</th>\n",
       "      <td>2020.07.02</td>\n",
       "      <td>68278.07</td>\n",
       "      <td>18.24</td>\n",
       "      <td>1199.0</td>\n",
       "    </tr>\n",
       "    <tr>\n",
       "      <th>24</th>\n",
       "      <td>2020.07.06</td>\n",
       "      <td>68269.27</td>\n",
       "      <td>18.50</td>\n",
       "      <td>1194.0</td>\n",
       "    </tr>\n",
       "    <tr>\n",
       "      <th>23</th>\n",
       "      <td>2020.07.07</td>\n",
       "      <td>68443.14</td>\n",
       "      <td>18.63</td>\n",
       "      <td>1197.0</td>\n",
       "    </tr>\n",
       "  </tbody>\n",
       "</table>\n",
       "</div>"
      ],
      "text/plain": [
       "            일자        금값     은값   달러 환율\n",
       "27  2020.06.30  68559.78  18.54  1203.0\n",
       "26  2020.07.01  68941.28  18.13  1203.5\n",
       "25  2020.07.02  68278.07  18.24  1199.0\n",
       "24  2020.07.06  68269.27  18.50  1194.0\n",
       "23  2020.07.07  68443.14  18.63  1197.0"
      ]
     },
     "execution_count": 35,
     "metadata": {},
     "output_type": "execute_result"
    }
   ],
   "source": [
    "df.head()"
   ]
  },
  {
   "cell_type": "code",
   "execution_count": 38,
   "id": "e0b1b70e-d5f3-4329-8efb-a592f4e6feb5",
   "metadata": {},
   "outputs": [
    {
     "data": {
      "text/html": [
       "<div>\n",
       "<style scoped>\n",
       "    .dataframe tbody tr th:only-of-type {\n",
       "        vertical-align: middle;\n",
       "    }\n",
       "\n",
       "    .dataframe tbody tr th {\n",
       "        vertical-align: top;\n",
       "    }\n",
       "\n",
       "    .dataframe thead th {\n",
       "        text-align: right;\n",
       "    }\n",
       "</style>\n",
       "<table border=\"1\" class=\"dataframe\">\n",
       "  <thead>\n",
       "    <tr style=\"text-align: right;\">\n",
       "      <th></th>\n",
       "      <th>금값</th>\n",
       "      <th>은값</th>\n",
       "      <th>달러 환율</th>\n",
       "    </tr>\n",
       "  </thead>\n",
       "  <tbody>\n",
       "    <tr>\n",
       "      <th>27</th>\n",
       "      <td>68559.78</td>\n",
       "      <td>18.54</td>\n",
       "      <td>1203.0</td>\n",
       "    </tr>\n",
       "    <tr>\n",
       "      <th>26</th>\n",
       "      <td>68941.28</td>\n",
       "      <td>18.13</td>\n",
       "      <td>1203.5</td>\n",
       "    </tr>\n",
       "    <tr>\n",
       "      <th>25</th>\n",
       "      <td>68278.07</td>\n",
       "      <td>18.24</td>\n",
       "      <td>1199.0</td>\n",
       "    </tr>\n",
       "    <tr>\n",
       "      <th>24</th>\n",
       "      <td>68269.27</td>\n",
       "      <td>18.50</td>\n",
       "      <td>1194.0</td>\n",
       "    </tr>\n",
       "    <tr>\n",
       "      <th>23</th>\n",
       "      <td>68443.14</td>\n",
       "      <td>18.63</td>\n",
       "      <td>1197.0</td>\n",
       "    </tr>\n",
       "  </tbody>\n",
       "</table>\n",
       "</div>"
      ],
      "text/plain": [
       "          금값     은값   달러 환율\n",
       "27  68559.78  18.54  1203.0\n",
       "26  68941.28  18.13  1203.5\n",
       "25  68278.07  18.24  1199.0\n",
       "24  68269.27  18.50  1194.0\n",
       "23  68443.14  18.63  1197.0"
      ]
     },
     "execution_count": 38,
     "metadata": {},
     "output_type": "execute_result"
    }
   ],
   "source": [
    "# df.drop('일자')이라고 하면 오류가 남.\n",
    "#이유 : 첫번재 데이터에서 아래(default)로 증가하면서 '일자'를 찾아야 하는데 없기 때문.\n",
    "# 그러므로, axis =1을 입력함으로서, 오른쪽 방향으로 찾으라는 입력을 해주어야 함.\n",
    "df.drop('일자',axis=1)[:5]"
   ]
  },
  {
   "cell_type": "code",
   "execution_count": 39,
   "id": "9f06559f-47af-489a-b538-7da60cf15e2e",
   "metadata": {},
   "outputs": [
    {
     "data": {
      "text/html": [
       "<div>\n",
       "<style scoped>\n",
       "    .dataframe tbody tr th:only-of-type {\n",
       "        vertical-align: middle;\n",
       "    }\n",
       "\n",
       "    .dataframe tbody tr th {\n",
       "        vertical-align: top;\n",
       "    }\n",
       "\n",
       "    .dataframe thead th {\n",
       "        text-align: right;\n",
       "    }\n",
       "</style>\n",
       "<table border=\"1\" class=\"dataframe\">\n",
       "  <thead>\n",
       "    <tr style=\"text-align: right;\">\n",
       "      <th></th>\n",
       "      <th>금값</th>\n",
       "      <th>은값</th>\n",
       "      <th>달러 환율</th>\n",
       "    </tr>\n",
       "  </thead>\n",
       "  <tbody>\n",
       "    <tr>\n",
       "      <th>금값</th>\n",
       "      <td>1.000000</td>\n",
       "      <td>0.971864</td>\n",
       "      <td>-0.679327</td>\n",
       "    </tr>\n",
       "    <tr>\n",
       "      <th>은값</th>\n",
       "      <td>0.971864</td>\n",
       "      <td>1.000000</td>\n",
       "      <td>-0.695457</td>\n",
       "    </tr>\n",
       "    <tr>\n",
       "      <th>달러 환율</th>\n",
       "      <td>-0.679327</td>\n",
       "      <td>-0.695457</td>\n",
       "      <td>1.000000</td>\n",
       "    </tr>\n",
       "  </tbody>\n",
       "</table>\n",
       "</div>"
      ],
      "text/plain": [
       "             금값        은값     달러 환율\n",
       "금값     1.000000  0.971864 -0.679327\n",
       "은값     0.971864  1.000000 -0.695457\n",
       "달러 환율 -0.679327 -0.695457  1.000000"
      ]
     },
     "execution_count": 39,
     "metadata": {},
     "output_type": "execute_result"
    }
   ],
   "source": [
    "df2 = df.drop('일자', axis = 1)\n",
    "df2.corr(method = 'pearson') #물론 한번에 해도 됨"
   ]
  },
  {
   "cell_type": "code",
   "execution_count": 40,
   "id": "dc814000-608c-4572-af71-2b655c981e58",
   "metadata": {},
   "outputs": [
    {
     "data": {
      "text/html": [
       "<div>\n",
       "<style scoped>\n",
       "    .dataframe tbody tr th:only-of-type {\n",
       "        vertical-align: middle;\n",
       "    }\n",
       "\n",
       "    .dataframe tbody tr th {\n",
       "        vertical-align: top;\n",
       "    }\n",
       "\n",
       "    .dataframe thead th {\n",
       "        text-align: right;\n",
       "    }\n",
       "</style>\n",
       "<table border=\"1\" class=\"dataframe\">\n",
       "  <thead>\n",
       "    <tr style=\"text-align: right;\">\n",
       "      <th></th>\n",
       "      <th>금값</th>\n",
       "      <th>은값</th>\n",
       "      <th>달러 환율</th>\n",
       "    </tr>\n",
       "  </thead>\n",
       "  <tbody>\n",
       "    <tr>\n",
       "      <th>금값</th>\n",
       "      <td>1.000000</td>\n",
       "      <td>0.971124</td>\n",
       "      <td>-0.503908</td>\n",
       "    </tr>\n",
       "    <tr>\n",
       "      <th>은값</th>\n",
       "      <td>0.971124</td>\n",
       "      <td>1.000000</td>\n",
       "      <td>-0.528106</td>\n",
       "    </tr>\n",
       "    <tr>\n",
       "      <th>달러 환율</th>\n",
       "      <td>-0.503908</td>\n",
       "      <td>-0.528106</td>\n",
       "      <td>1.000000</td>\n",
       "    </tr>\n",
       "  </tbody>\n",
       "</table>\n",
       "</div>"
      ],
      "text/plain": [
       "             금값        은값     달러 환율\n",
       "금값     1.000000  0.971124 -0.503908\n",
       "은값     0.971124  1.000000 -0.528106\n",
       "달러 환율 -0.503908 -0.528106  1.000000"
      ]
     },
     "execution_count": 40,
     "metadata": {},
     "output_type": "execute_result"
    }
   ],
   "source": [
    "df2.corr(method = 'spearman')"
   ]
  },
  {
   "cell_type": "markdown",
   "id": "2173aa30-78e5-4a21-af82-aa616bbd2aff",
   "metadata": {},
   "source": [
    "1. pearson 상관계수\n",
    "* 선형관계를 측정\n",
    "* 두 변수 간의 직선적인 강도와 방향성으로, 값은 -1~+1\n",
    "* 데이터가 정규분포, 이상치에 민감 > ex. 키와 몸무계처럼 비례 관계\n",
    "\n",
    "2. spearman 상관계수\n",
    "* 순위 기반의 상관관계\n",
    "* 데이터를 순위로 변환한 후 상관관계를 계산\n",
    "* 단조 관계 측정(곡선 관계도 포착 가능)\n",
    "* 장) 이상치에 강건, 정규분포 가정 불필요 > ex. 공부시간과 성적(반드시 직선적X)\n",
    "\n",
    "> 언제 어떤 것을 사용?\n",
    "> * Pearson: 데이터가 정규분포, 선형관계, 이상치 없을 때\n",
    "> * Spearman: 이상치 있음, 비선형이지만 단조관계, 순서형 데이터"
   ]
  },
  {
   "cell_type": "code",
   "execution_count": null,
   "id": "648e1ac6-f735-4ece-9fcc-7d33aaf88d57",
   "metadata": {},
   "outputs": [],
   "source": []
  },
  {
   "cell_type": "code",
   "execution_count": null,
   "id": "e7a3908e-4aa5-4728-acff-77f7aa32503d",
   "metadata": {},
   "outputs": [],
   "source": []
  }
 ],
 "metadata": {
  "kernelspec": {
   "display_name": "eda_env",
   "language": "python",
   "name": "eda_env"
  },
  "language_info": {
   "codemirror_mode": {
    "name": "ipython",
    "version": 3
   },
   "file_extension": ".py",
   "mimetype": "text/x-python",
   "name": "python",
   "nbconvert_exporter": "python",
   "pygments_lexer": "ipython3",
   "version": "3.10.19"
  }
 },
 "nbformat": 4,
 "nbformat_minor": 5
}

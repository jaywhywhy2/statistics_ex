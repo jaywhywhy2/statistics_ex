{
 "cells": [
  {
   "cell_type": "markdown",
   "id": "e6904a98-6456-4768-9224-2e35ffa2f68c",
   "metadata": {},
   "source": [
    "# 기초 통계 및 경영 통계 시험(10.20)"
   ]
  },
  {
   "cell_type": "code",
   "execution_count": 7,
   "id": "4b4d8d30-2e74-4e3a-94c3-bdbd52142e32",
   "metadata": {},
   "outputs": [],
   "source": [
    "import pandas as pd"
   ]
  },
  {
   "cell_type": "markdown",
   "id": "dce9ce3a-f080-4063-8977-69b0c1264e5a",
   "metadata": {},
   "source": [
    "1. 데이터 로딩"
   ]
  },
  {
   "cell_type": "code",
   "execution_count": 8,
   "id": "75d1ba81-9ffe-417f-bb9c-78352733dbcd",
   "metadata": {},
   "outputs": [
    {
     "data": {
      "text/html": [
       "<div>\n",
       "<style scoped>\n",
       "    .dataframe tbody tr th:only-of-type {\n",
       "        vertical-align: middle;\n",
       "    }\n",
       "\n",
       "    .dataframe tbody tr th {\n",
       "        vertical-align: top;\n",
       "    }\n",
       "\n",
       "    .dataframe thead th {\n",
       "        text-align: right;\n",
       "    }\n",
       "</style>\n",
       "<table border=\"1\" class=\"dataframe\">\n",
       "  <thead>\n",
       "    <tr style=\"text-align: right;\">\n",
       "      <th></th>\n",
       "      <th>CDN_A</th>\n",
       "      <th>CDN_B</th>\n",
       "      <th>CDN_C</th>\n",
       "    </tr>\n",
       "  </thead>\n",
       "  <tbody>\n",
       "    <tr>\n",
       "      <th>0</th>\n",
       "      <td>103.115543</td>\n",
       "      <td>102.342433</td>\n",
       "      <td>98.371838</td>\n",
       "    </tr>\n",
       "    <tr>\n",
       "      <th>1</th>\n",
       "      <td>94.341060</td>\n",
       "      <td>118.835131</td>\n",
       "      <td>86.193353</td>\n",
       "    </tr>\n",
       "    <tr>\n",
       "      <th>2</th>\n",
       "      <td>114.586739</td>\n",
       "      <td>104.359728</td>\n",
       "      <td>79.047870</td>\n",
       "    </tr>\n",
       "    <tr>\n",
       "      <th>3</th>\n",
       "      <td>156.155017</td>\n",
       "      <td>90.357875</td>\n",
       "      <td>63.730201</td>\n",
       "    </tr>\n",
       "    <tr>\n",
       "      <th>4</th>\n",
       "      <td>156.920524</td>\n",
       "      <td>75.013771</td>\n",
       "      <td>116.655484</td>\n",
       "    </tr>\n",
       "  </tbody>\n",
       "</table>\n",
       "</div>"
      ],
      "text/plain": [
       "        CDN_A       CDN_B       CDN_C\n",
       "0  103.115543  102.342433   98.371838\n",
       "1   94.341060  118.835131   86.193353\n",
       "2  114.586739  104.359728   79.047870\n",
       "3  156.155017   90.357875   63.730201\n",
       "4  156.920524   75.013771  116.655484"
      ]
     },
     "execution_count": 8,
     "metadata": {},
     "output_type": "execute_result"
    }
   ],
   "source": [
    "# 1번. 데이터 로딩\n",
    "df = pd.read_csv(\"./문제해결_양지후/cdn_page_load_times.csv\")\n",
    "df.head()"
   ]
  },
  {
   "cell_type": "markdown",
   "id": "f4843964-38a4-4e47-82fa-fa5fe861e4ae",
   "metadata": {},
   "source": [
    "2. 로딩한 데이터를 분석하기에 적합한 가설 검정 방법의 선택 : 일원분산 anova 분석 사용\n",
    "> 이유 : 셋 이상의 그룹 간의 차이를 확인하는 것이 필요하기 때문\n",
    "\n",
    "3. 정규성 검정 및 등분산성(레빈 검정)이 필요합니다. (아래에 수행)"
   ]
  },
  {
   "cell_type": "code",
   "execution_count": 9,
   "id": "6af2886c-7ba0-4deb-938d-cce43d11601e",
   "metadata": {},
   "outputs": [],
   "source": [
    "# 데이터 분할 (결측이 포함되어 있을 수 있으므로 dropna를 사용)\n",
    "A = df['CDN_A'].dropna().values\n",
    "B = df['CDN_B'].dropna().values\n",
    "C = df['CDN_C'].dropna().values"
   ]
  },
  {
   "cell_type": "code",
   "execution_count": 12,
   "id": "52e37293-836e-43ba-b516-1b8125752e61",
   "metadata": {},
   "outputs": [
    {
     "name": "stdout",
     "output_type": "stream",
     "text": [
      "ShapiroResult(statistic=np.float64(0.9940977465531138), pvalue=np.float64(0.9446069376138456))\n",
      "ShapiroResult(statistic=np.float64(0.9898981527862001), pvalue=np.float64(0.6563609451801027))\n",
      "ShapiroResult(statistic=np.float64(0.9821121731681786), pvalue=np.float64(0.19351085781526467))\n"
     ]
    }
   ],
   "source": [
    "#정규성 검정을 위한 Shapiro-Wilk 검정\n",
    "from scipy import stats\n",
    "print(stats.shapiro(A-B,))\n",
    "print(stats.shapiro(A-C))\n",
    "print(stats.shapiro(B-C))"
   ]
  },
  {
   "cell_type": "markdown",
   "id": "6e18a39f-dbdf-49b9-9180-c3e7c3deb515",
   "metadata": {},
   "source": [
    "[결과해석]\n",
    "- 모두 p-value값이 0.05이상이므로, 정규분포를 따른다 > 귀무가설 \"데이터가 정규 분포를 따른다\"선택\n",
    "- 순서대로 p-value : 0.9446, 0.6563, 0.935"
   ]
  },
  {
   "cell_type": "code",
   "execution_count": 13,
   "id": "b49eaf81-d9e4-40a1-8f3d-f45598bbd7d4",
   "metadata": {},
   "outputs": [
    {
     "name": "stdout",
     "output_type": "stream",
     "text": [
      "levene_stat: 0.6331383822746123, levene_p_value: 0.5316379878247686\n"
     ]
    }
   ],
   "source": [
    "#등분산성 검정을 위한 레빈 검정\n",
    "levene_stat, levene_p_value = stats.levene(A, B, C, center='median')\n",
    "print(f\"levene_stat: {levene_stat}, levene_p_value: {levene_p_value}\")"
   ]
  },
  {
   "cell_type": "markdown",
   "id": "b44c6c5a-f0f2-4565-b82f-5f7d1a765976",
   "metadata": {},
   "source": [
    "[결과해석]\n",
    "-  p-value값이 0.05이상이므로, 귀무가설 \"모든 그룹의 분산이 같다\" 만족\n",
    "- p-value : 0.5316"
   ]
  },
  {
   "cell_type": "markdown",
   "id": "e91e11b2-5df7-45b1-8576-3bb12d5facec",
   "metadata": {},
   "source": [
    "4. 가설검정 수행 및 결과 해석"
   ]
  },
  {
   "cell_type": "code",
   "execution_count": 14,
   "id": "a9e61d02-6737-45b2-abca-052ef6759966",
   "metadata": {},
   "outputs": [
    {
     "name": "stdout",
     "output_type": "stream",
     "text": [
      "F_onewayResult(statistic=np.float64(39.192607237897704), pvalue=np.float64(7.842852500131944e-16))\n"
     ]
    }
   ],
   "source": [
    "#일원분산분석 수행 및 결과 해석\n",
    "print(stats.f_oneway(A, B, C))"
   ]
  },
  {
   "cell_type": "markdown",
   "id": "ac06936e-e31c-47c9-9366-904174572af1",
   "metadata": {},
   "source": [
    "[결과 해석]\n",
    "결론 : 그룹 간 평균에 유의한 차이가 있다!\n",
    "\n",
    "- p-value = 7.842/10에 16승 < 0.05 : 매우 작은 p-value 값을 보이므로, 강력한 유의성이 보이고, 이에 귀무 가설을 기각\n",
    "\n",
    "즉, 어느 CDN서비스인지는 몰라도, 전체 CDN서비스의 속도 평균이 동일하지 않다. 적어도 하나는 다르다!"
   ]
  },
  {
   "cell_type": "markdown",
   "id": "8efe493e-3cc4-4359-9da4-edb2b80d7a96",
   "metadata": {},
   "source": [
    "5. 사후검정\n",
    "- 앞서 다르다는 것을 확인했기 때문에, 어떤 CDN서비스가 다른지 확인하는 사후 검정이 필요하다."
   ]
  },
  {
   "cell_type": "code",
   "execution_count": 15,
   "id": "45369bab-83d5-4c44-abc1-25fc093b95f3",
   "metadata": {},
   "outputs": [
    {
     "name": "stdout",
     "output_type": "stream",
     "text": [
      " Multiple Comparison of Means - Tukey HSD, FWER=0.05 \n",
      "=====================================================\n",
      "group1 group2 meandiff p-adj   lower    upper  reject\n",
      "-----------------------------------------------------\n",
      "     A      B -24.8154    0.0 -31.4178 -18.213   True\n",
      "     A      C -12.5563    0.0 -19.1587 -5.9538   True\n",
      "     B      C  12.2591 0.0001   5.6567 18.8616   True\n",
      "-----------------------------------------------------\n"
     ]
    }
   ],
   "source": [
    "#사후분석\n",
    "from statsmodels.stats import multicomp \n",
    "\n",
    "Data = A.tolist() + B.tolist() + C.tolist()\n",
    "Group = ['A'] * len(A) + ['B'] * len(B) + ['C'] * len(C)\n",
    "\n",
    "print(multicomp.pairwise_tukeyhsd(Data, Group))"
   ]
  },
  {
   "cell_type": "markdown",
   "id": "27e2ca92-3786-4ff8-9617-ff47c1c50b19",
   "metadata": {},
   "source": [
    "[결과 해석]\n",
    "* 세 그룹이 전부다 유의한 차이가 있다(reject = \"True\")\n",
    "* 결과 값에 드러난 '차이'에 따라 순위를 세우면, A > c > B의 순서이다.\n",
    "> B가 A보다 24.8 낮음, C가 A보다 12.6 낮음, C가 B보다 12..3 높음"
   ]
  },
  {
   "cell_type": "code",
   "execution_count": null,
   "id": "fb504a7f-49dc-4df3-9c58-d5ce6fa91a79",
   "metadata": {},
   "outputs": [],
   "source": []
  }
 ],
 "metadata": {
  "kernelspec": {
   "display_name": "eda_env",
   "language": "python",
   "name": "eda_env"
  },
  "language_info": {
   "codemirror_mode": {
    "name": "ipython",
    "version": 3
   },
   "file_extension": ".py",
   "mimetype": "text/x-python",
   "name": "python",
   "nbconvert_exporter": "python",
   "pygments_lexer": "ipython3",
   "version": "3.10.19"
  }
 },
 "nbformat": 4,
 "nbformat_minor": 5
}

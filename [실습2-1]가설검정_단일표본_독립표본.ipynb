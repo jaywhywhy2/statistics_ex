{
 "cells": [
  {
   "cell_type": "markdown",
   "id": "05e13ade-3ad6-4bd8-99b2-ba3d13f003d3",
   "metadata": {},
   "source": [
    "# 단일 표본 t 검정\n",
    "* txt 파일의 데이터를 읽어서 float형으로 형변환\n",
    "* 정규성 검정\n",
    "* kstest를 활용해 정규성 검정 진행"
   ]
  },
  {
   "cell_type": "code",
   "execution_count": 26,
   "id": "4521a133-4690-4054-ae53-e8df8506cb32",
   "metadata": {},
   "outputs": [
    {
     "name": "stdout",
     "output_type": "stream",
     "text": [
      "[150.27, 142.94, 160.99, 157.48, 153.46, 137.5, 154.94, 159.51, 171.87, 143.69, 153.65, 160.25, 153.07, 154.42, 141.21, 154.17, 162.56, 164.44, 172.36, 141.51, 169.4, 167.97, 170.26, 157.8, 167.61]\n",
      "[150.27, 142.94, 160.99, 157.48, 153.46, 137.5, 154.94, 159.51, 171.87, 143.69, 153.65, 160.25, 153.07, 154.42, 141.21, 154.17, 162.56, 164.44, 172.36, 141.51, 169.4, 167.97, 170.26, 157.8, 167.61]\n"
     ]
    }
   ],
   "source": [
    "with open(\"./datas2/성인여성_키_데이터.txt\",\"r\") as f:\n",
    "    data = f.read().split(\"\\n\")\n",
    "    data = map(float,data) #리스트 요소가 문자열\n",
    "    data = list(data)\n",
    "    print(data)\n",
    "    print(list(data)) #map 함수의 결과를 list로 형변환 -> 출력"
   ]
  },
  {
   "cell_type": "code",
   "execution_count": 27,
   "id": "a2f58b9c-37f7-4ffc-90ed-0ec0b1adc2e2",
   "metadata": {},
   "outputs": [
    {
     "data": {
      "text/plain": [
       "[150.27, 142.94, 160.99]"
      ]
     },
     "execution_count": 27,
     "metadata": {},
     "output_type": "execute_result"
    }
   ],
   "source": [
    "data[:3]"
   ]
  },
  {
   "cell_type": "code",
   "execution_count": 28,
   "id": "41859b69-8f45-4a8a-8ce7-b54f582668c0",
   "metadata": {},
   "outputs": [
    {
     "data": {
      "text/plain": [
       "(np.float64(156.9332), np.float64(9.974187774450611))"
      ]
     },
     "execution_count": 28,
     "metadata": {},
     "output_type": "execute_result"
    }
   ],
   "source": [
    "from scipy import stats\n",
    "import numpy as np\n",
    "\n",
    "# 평균과 표준편차 계산\n",
    "mean_value = np.mean(data)\n",
    "std_dev = np.std(data, ddof=0)  # 모집단 표준편차(기본 설정)\n",
    "\n",
    "mean_value, std_dev"
   ]
  },
  {
   "cell_type": "markdown",
   "id": "4f615b0b-fe27-459e-9eca-1fc2299fc8b0",
   "metadata": {},
   "source": [
    "## 가설 설정\n",
    "\n",
    "* 귀무가설: 표본 데이터의 평균은 163과 같다.\n",
    "* 대립가설: 표본 데이터의 평균은 163과 다르다.\n",
    "\n",
    "## 정규성 검정\n",
    "* 방법 1 : KS-test"
   ]
  },
  {
   "cell_type": "code",
   "execution_count": 29,
   "id": "bfe809a9-be92-47bb-b969-4691d89fcdb5",
   "metadata": {},
   "outputs": [
    {
     "data": {
      "text/plain": [
       "(np.float64(0.10925974986314058), np.float64(0.8950958424230889))"
      ]
     },
     "execution_count": 29,
     "metadata": {},
     "output_type": "execute_result"
    }
   ],
   "source": [
    "# 정규성 검정, KS-test(Kolmogorov-Smirnov) 검정\n",
    "#  KS-test는 주어진 표본 데이터가 특정 이론적인 분포(예: 정규분포)를 따르는지 검정하는 방법\n",
    "\n",
    "# 'norm': 비교 대상이 되는 이론적인 분포를 지정 ('norm'은 정규분포)\n",
    "# args=(np.mean(data), np.std(data, ddof=0)): 표본 데이터의 평균과 표준편차를 사용하여 정규분포의 모수 설정\n",
    "ks_statistic, p_value = stats.kstest(data, 'norm', args=(np.mean(data), np.std(data, ddof=0)))\n",
    "ks_statistic, p_value"
   ]
  },
  {
   "cell_type": "markdown",
   "id": "42ab59bc-99b7-4eb2-91e0-7c4a339c86b3",
   "metadata": {},
   "source": [
    "[결과 해석]\n",
    "\n",
    "* p-value > 0.05: 귀무가설을 기각하지 못함 → 데이터가 정규분포를 따르지 않는다 라고 말할 충분한 증거가 없음.\n",
    "* p-value <= 0.05: 귀무가설을 기각 → 데이터는 정규분포를 따르지 않는다고 판단.\n",
    "\n",
    "* 방법2 : Shapiro-Wilk 검정\n",
    "    * scipy.stats.shapiro()"
   ]
  },
  {
   "cell_type": "code",
   "execution_count": 30,
   "id": "35cbf514-2438-46a8-a276-7b16621d2809",
   "metadata": {},
   "outputs": [
    {
     "data": {
      "text/plain": [
       "ShapiroResult(statistic=np.float64(0.9535807149342824), pvalue=np.float64(0.3014257470765011))"
      ]
     },
     "execution_count": 30,
     "metadata": {},
     "output_type": "execute_result"
    }
   ],
   "source": [
    "stats.shapiro(data) "
   ]
  },
  {
   "cell_type": "markdown",
   "id": "34480081-c996-46c8-96f7-64ff1cc0cfe8",
   "metadata": {},
   "source": [
    "[해설]\n",
    "\n",
    "* p-value > 0.05 : 정구분포를 따르지 않는다라고 말할 충분한 증거가 없음. 귀무가설 기각하지 않음\n",
    "\n",
    "\n",
    "  >>>  여기까지는 따라잡느라 놓친 부분 복습 필수"
   ]
  },
  {
   "cell_type": "markdown",
   "id": "1923d42b-1c2f-4910-93c0-5b386463f02a",
   "metadata": {},
   "source": [
    "# 단일 표본 T 검정하기"
   ]
  },
  {
   "cell_type": "code",
   "execution_count": 31,
   "id": "431032ed-397c-4ef8-98fb-c49de1ac0856",
   "metadata": {},
   "outputs": [
    {
     "ename": "NameError",
     "evalue": "name 'ttest_1samp' is not defined",
     "output_type": "error",
     "traceback": [
      "\u001b[1;31m---------------------------------------------------------------------------\u001b[0m",
      "\u001b[1;31mNameError\u001b[0m                                 Traceback (most recent call last)",
      "Cell \u001b[1;32mIn[31], line 1\u001b[0m\n\u001b[1;32m----> 1\u001b[0m \u001b[43mttest_1samp\u001b[49m(data,\u001b[38;5;241m163\u001b[39m)\n",
      "\u001b[1;31mNameError\u001b[0m: name 'ttest_1samp' is not defined"
     ]
    }
   ],
   "source": [
    "ttest_1samp(data,163)"
   ]
  },
  {
   "cell_type": "markdown",
   "id": "b140f068-97da-4a34-881d-23f8722f7903",
   "metadata": {},
   "source": [
    "> 하 여기까지도 일단 진행하는 중... 추후 복습 필수"
   ]
  },
  {
   "cell_type": "markdown",
   "id": "e8ca65d3-740b-44a0-9018-e614965cc737",
   "metadata": {},
   "source": [
    "# 단일 표본 T 검정하기"
   ]
  },
  {
   "cell_type": "markdown",
   "id": "8a8e0921-64a4-453e-94ac-8022563bdc50",
   "metadata": {},
   "source": [
    "* 두 그룹 a, b의 차이를 검증할 때 사용하는 검증 방법\n",
    "* 문제 : a, b반의 점수 차이가 있는 지 검증하기\n",
    "* [가설 설정]\n",
    "* h0 : a반과 b반의 평균은 같다.\n",
    "* h1 : a반과 b반의 평균은 다르다.\n",
    "* 다르다 = 양측 검증 높/낮다 = 단층 검증"
   ]
  },
  {
   "cell_type": "code",
   "execution_count": 32,
   "id": "ad41fb05-5cea-4c7f-8327-f563e929d0a3",
   "metadata": {},
   "outputs": [],
   "source": [
    "import pandas as pd\n",
    "import numpy as np"
   ]
  },
  {
   "cell_type": "code",
   "execution_count": 33,
   "id": "fe158d77-84d8-4db5-86cc-61efbcac0944",
   "metadata": {},
   "outputs": [
    {
     "data": {
      "text/html": [
       "<div>\n",
       "<style scoped>\n",
       "    .dataframe tbody tr th:only-of-type {\n",
       "        vertical-align: middle;\n",
       "    }\n",
       "\n",
       "    .dataframe tbody tr th {\n",
       "        vertical-align: top;\n",
       "    }\n",
       "\n",
       "    .dataframe thead th {\n",
       "        text-align: right;\n",
       "    }\n",
       "</style>\n",
       "<table border=\"1\" class=\"dataframe\">\n",
       "  <thead>\n",
       "    <tr style=\"text-align: right;\">\n",
       "      <th></th>\n",
       "      <th>반</th>\n",
       "      <th>점수</th>\n",
       "    </tr>\n",
       "  </thead>\n",
       "  <tbody>\n",
       "    <tr>\n",
       "      <th>0</th>\n",
       "      <td>A</td>\n",
       "      <td>73</td>\n",
       "    </tr>\n",
       "    <tr>\n",
       "      <th>1</th>\n",
       "      <td>A</td>\n",
       "      <td>69</td>\n",
       "    </tr>\n",
       "    <tr>\n",
       "      <th>2</th>\n",
       "      <td>A</td>\n",
       "      <td>71</td>\n",
       "    </tr>\n",
       "    <tr>\n",
       "      <th>3</th>\n",
       "      <td>A</td>\n",
       "      <td>71</td>\n",
       "    </tr>\n",
       "    <tr>\n",
       "      <th>4</th>\n",
       "      <td>A</td>\n",
       "      <td>73</td>\n",
       "    </tr>\n",
       "  </tbody>\n",
       "</table>\n",
       "</div>"
      ],
      "text/plain": [
       "   반  점수\n",
       "0  A  73\n",
       "1  A  69\n",
       "2  A  71\n",
       "3  A  71\n",
       "4  A  73"
      ]
     },
     "execution_count": 33,
     "metadata": {},
     "output_type": "execute_result"
    }
   ],
   "source": [
    "df1 = pd.read_csv(\"./datas2/반별_점수_type1.csv\", encoding = \"euc-kr\")\n",
    "# df1 = pd.read_csv(\"./datas2/반별_점수_type1.csv\")\n",
    "df1.head()"
   ]
  },
  {
   "cell_type": "code",
   "execution_count": 34,
   "id": "63555f68-4625-4499-a1e2-08b3830c82e5",
   "metadata": {},
   "outputs": [
    {
     "data": {
      "text/html": [
       "<div>\n",
       "<style scoped>\n",
       "    .dataframe tbody tr th:only-of-type {\n",
       "        vertical-align: middle;\n",
       "    }\n",
       "\n",
       "    .dataframe tbody tr th {\n",
       "        vertical-align: top;\n",
       "    }\n",
       "\n",
       "    .dataframe thead th {\n",
       "        text-align: right;\n",
       "    }\n",
       "</style>\n",
       "<table border=\"1\" class=\"dataframe\">\n",
       "  <thead>\n",
       "    <tr style=\"text-align: right;\">\n",
       "      <th></th>\n",
       "      <th>반</th>\n",
       "      <th>점수</th>\n",
       "    </tr>\n",
       "  </thead>\n",
       "  <tbody>\n",
       "    <tr>\n",
       "      <th>25</th>\n",
       "      <td>B</td>\n",
       "      <td>77</td>\n",
       "    </tr>\n",
       "    <tr>\n",
       "      <th>26</th>\n",
       "      <td>B</td>\n",
       "      <td>75</td>\n",
       "    </tr>\n",
       "    <tr>\n",
       "      <th>27</th>\n",
       "      <td>B</td>\n",
       "      <td>65</td>\n",
       "    </tr>\n",
       "    <tr>\n",
       "      <th>28</th>\n",
       "      <td>B</td>\n",
       "      <td>61</td>\n",
       "    </tr>\n",
       "    <tr>\n",
       "      <th>29</th>\n",
       "      <td>B</td>\n",
       "      <td>55</td>\n",
       "    </tr>\n",
       "  </tbody>\n",
       "</table>\n",
       "</div>"
      ],
      "text/plain": [
       "    반  점수\n",
       "25  B  77\n",
       "26  B  75\n",
       "27  B  65\n",
       "28  B  61\n",
       "29  B  55"
      ]
     },
     "execution_count": 34,
     "metadata": {},
     "output_type": "execute_result"
    }
   ],
   "source": [
    "df1.tail()"
   ]
  },
  {
   "cell_type": "code",
   "execution_count": 35,
   "id": "0db13961-5151-4a5c-bf55-10157f8f60c4",
   "metadata": {},
   "outputs": [
    {
     "data": {
      "text/plain": [
       "반  점수\n",
       "A  73    4\n",
       "B  55    2\n",
       "A  71    2\n",
       "   70    2\n",
       "   69    2\n",
       "B  61    2\n",
       "A  68    1\n",
       "   67    1\n",
       "   66    1\n",
       "   65    1\n",
       "   62    1\n",
       "   58    1\n",
       "   74    1\n",
       "   76    1\n",
       "   82    1\n",
       "   81    1\n",
       "B  56    1\n",
       "   63    1\n",
       "   65    1\n",
       "   73    1\n",
       "   75    1\n",
       "   77    1\n",
       "Name: count, dtype: int64"
      ]
     },
     "execution_count": 35,
     "metadata": {},
     "output_type": "execute_result"
    }
   ],
   "source": [
    "df1.value_counts()"
   ]
  },
  {
   "cell_type": "code",
   "execution_count": 36,
   "id": "3dbfdb6d-3a71-4b02-ab57-2d142126a034",
   "metadata": {},
   "outputs": [
    {
     "data": {
      "text/plain": [
       "반\n",
       "A    20\n",
       "B    10\n",
       "Name: count, dtype: int64"
      ]
     },
     "execution_count": 36,
     "metadata": {},
     "output_type": "execute_result"
    }
   ],
   "source": [
    "df1['반'].value_counts() #데이터프레임에서 반 컬럼의 유니크한 값의 갯수 확인"
   ]
  },
  {
   "cell_type": "markdown",
   "id": "f45580a1-2b11-4f53-b3a5-9cae476def51",
   "metadata": {},
   "source": [
    "### a반과 b반 데이터 분리하기"
   ]
  },
  {
   "cell_type": "code",
   "execution_count": 42,
   "id": "ef779f17-2398-47ce-b2c7-013b0609d4d0",
   "metadata": {},
   "outputs": [
    {
     "data": {
      "text/plain": [
       "20"
      ]
     },
     "execution_count": 42,
     "metadata": {},
     "output_type": "execute_result"
    }
   ],
   "source": [
    "# a반 데이터만 추출\n",
    "groupA = df1['점수'].loc[df1['반']=='A'].values\n",
    "len(groupA)\n",
    "#loc(location) 필터링 기준, 어떤 위치에 있는 값을 가져올 것인가?\n",
    "# >위 구문을 해석하면, df1의 '반'칼럼에서 'A'인것만 뽑아와."
   ]
  },
  {
   "cell_type": "code",
   "execution_count": 43,
   "id": "5972725e-57e1-4c84-ba9f-3690d4106126",
   "metadata": {},
   "outputs": [
    {
     "data": {
      "text/plain": [
       "10"
      ]
     },
     "execution_count": 43,
     "metadata": {},
     "output_type": "execute_result"
    }
   ],
   "source": [
    "# b반 데이터만 추출\n",
    "groupB = df1['점수'].loc[df1['반']=='B'].values\n",
    "len(groupB)"
   ]
  },
  {
   "cell_type": "markdown",
   "id": "dc28b30d-3f71-4408-8020-39d493f80476",
   "metadata": {},
   "source": [
    "* 위 두 그룹의 각각 평균과 표준편차 구하기"
   ]
  },
  {
   "cell_type": "code",
   "execution_count": 47,
   "id": "2d52507d-691c-4e50-8ccd-d799d3419273",
   "metadata": {},
   "outputs": [
    {
     "data": {
      "text/plain": [
       "(np.float64(70.55), np.float64(5.67983506061483))"
      ]
     },
     "execution_count": 47,
     "metadata": {},
     "output_type": "execute_result"
    }
   ],
   "source": [
    "import numpy as np\n",
    "\n",
    "# A반의 평균과 표준 편차\n",
    "meanA = np.mean(groupA)\n",
    "stdA = np.std(groupA, ddof=1)  # 표본 표준 편차 (ddof=1)\n",
    "meanA, stdA"
   ]
  },
  {
   "cell_type": "code",
   "execution_count": 48,
   "id": "73fa2308-64b4-452d-958d-a5e9d1761fff",
   "metadata": {},
   "outputs": [
    {
     "data": {
      "text/plain": [
       "(np.float64(64.1), np.float64(8.279157230325104))"
      ]
     },
     "execution_count": 48,
     "metadata": {},
     "output_type": "execute_result"
    }
   ],
   "source": [
    "# B반의 평균과 표준 편차\n",
    "meanB = np.mean(groupB)\n",
    "stdB = np.std(groupB, ddof=1)  # 표본 표준 편차 (ddof=1)\n",
    "meanB, stdB"
   ]
  },
  {
   "cell_type": "code",
   "execution_count": 49,
   "id": "38f1b937-ca0f-4179-b045-bd7c88732929",
   "metadata": {},
   "outputs": [
    {
     "name": "stdout",
     "output_type": "stream",
     "text": [
      "A반 평균: 70.55, 표준 편차: 5.68\n",
      "B반 평균: 64.10, 표준 편차: 8.28\n"
     ]
    }
   ],
   "source": [
    "# 결과 출력\n",
    "print(f\"A반 평균: {meanA:.2f}, 표준 편차: {stdA:.2f}\")\n",
    "print(f\"B반 평균: {meanB:.2f}, 표준 편차: {stdB:.2f}\")"
   ]
  },
  {
   "cell_type": "markdown",
   "id": "52932842-305c-4e7c-9f2d-16368f2c7aa3",
   "metadata": {},
   "source": [
    "## 정규성 검정"
   ]
  },
  {
   "cell_type": "code",
   "execution_count": 65,
   "id": "018c96f1-2d5c-4da5-9dc5-e3713eeea6a9",
   "metadata": {},
   "outputs": [
    {
     "name": "stdout",
     "output_type": "stream",
     "text": [
      "KstestResult(statistic=np.float64(0.13310674849448567), pvalue=np.float64(0.8254564220619713), statistic_location=np.int64(73), statistic_sign=np.int8(1))\n"
     ]
    }
   ],
   "source": [
    "stdevA = stats.kstest(groupA, 'norm', args=(np.mean(groupA), np.std(groupA, ddof=1)))\n",
    "print(stdevA)"
   ]
  },
  {
   "cell_type": "code",
   "execution_count": 66,
   "id": "b95865e7-464a-457a-9889-55a3bbac4a0e",
   "metadata": {},
   "outputs": [
    {
     "name": "stdout",
     "output_type": "stream",
     "text": [
      "KstestResult(statistic=np.float64(0.15881009358601705), pvalue=np.float64(0.9295432555006241), statistic_location=np.int64(73), statistic_sign=np.int8(-1))\n"
     ]
    }
   ],
   "source": [
    "stdevB = stats.kstest(groupB, 'norm', args=(np.mean(groupB), np.std(groupB, ddof=1)))\n",
    "print(stdevB)"
   ]
  },
  {
   "cell_type": "code",
   "execution_count": 67,
   "id": "5659fb58-e713-45c3-8129-384f31ab5db5",
   "metadata": {},
   "outputs": [
    {
     "name": "stdout",
     "output_type": "stream",
     "text": [
      "groupA의 stat: 0.9696965803625964, p: 0.748452591551455\n",
      "groupB의 stat: 0.8888437044166572, p: 0.16456075946955223\n"
     ]
    }
   ],
   "source": [
    "#방법 2\n",
    "stat, p = stats.shapiro(groupA) \n",
    "print(f\"groupA의 stat: {stat}, p: {p}\")\n",
    "stat, p = stats.shapiro(groupB) \n",
    "print(f\"groupB의 stat: {stat}, p: {p}\")"
   ]
  },
  {
   "cell_type": "markdown",
   "id": "540e991a-6cd0-4075-b254-953e3b6bccd8",
   "metadata": {},
   "source": [
    "## 등분산 검정"
   ]
  },
  {
   "cell_type": "code",
   "execution_count": 60,
   "id": "d1093e0e-53c3-4f55-853b-ef5bc3101aee",
   "metadata": {},
   "outputs": [
    {
     "data": {
      "text/plain": [
       "LeveneResult(statistic=np.float64(2.033067087400979), pvalue=np.float64(0.16496408622210104))"
      ]
     },
     "execution_count": 60,
     "metadata": {},
     "output_type": "execute_result"
    }
   ],
   "source": [
    "stats.levene(groupA, groupB)"
   ]
  },
  {
   "cell_type": "markdown",
   "id": "80bed893-097e-4319-9afc-6d94ad13286c",
   "metadata": {},
   "source": [
    "[해석]\n",
    "* p-value > 0.05 : 두 그룹의 분산이 같다(등분산)을 띈다고 볼 수 있음\n",
    "* p-value <= 0.05 : 두 그룹의 분산이 같지않다."
   ]
  },
  {
   "cell_type": "code",
   "execution_count": 61,
   "id": "e2cdff20-e925-4584-b807-5a608d4bb2d0",
   "metadata": {},
   "outputs": [
    {
     "data": {
      "text/plain": [
       "np.float64(32.26052631578948)"
      ]
     },
     "execution_count": 61,
     "metadata": {},
     "output_type": "execute_result"
    }
   ],
   "source": [
    "# group_A의 분산  \n",
    "np.var(groupA, ddof=1)"
   ]
  },
  {
   "cell_type": "code",
   "execution_count": 62,
   "id": "4bd75783-37a9-42df-bd7f-36623ab4b10e",
   "metadata": {},
   "outputs": [
    {
     "data": {
      "text/plain": [
       "np.float64(68.54444444444445)"
      ]
     },
     "execution_count": 62,
     "metadata": {},
     "output_type": "execute_result"
    }
   ],
   "source": [
    "# group_B의 분산\n",
    "np.var(groupB, ddof=1)"
   ]
  },
  {
   "cell_type": "markdown",
   "id": "e7f2bd2e-4a31-4736-abc1-eabeba6c3b86",
   "metadata": {},
   "source": [
    "## 독립표본 t-검정 수행"
   ]
  },
  {
   "cell_type": "code",
   "execution_count": 64,
   "id": "15d75059-c14b-431c-a3b2-1777ecda2e2a",
   "metadata": {},
   "outputs": [
    {
     "name": "stdout",
     "output_type": "stream",
     "text": [
      "TtestResult(statistic=np.float64(2.5128526794964134), pvalue=np.float64(0.01801095352893767), df=np.float64(28.0))\n"
     ]
    }
   ],
   "source": [
    "# A와 B간에는 차이가 존재함을 확인\n",
    "# equal_var = True(등분산 만족)\n",
    "print(stats.ttest_ind(groupA, groupB, equal_var = True)) "
   ]
  },
  {
   "cell_type": "markdown",
   "id": "99a005a5-4767-438e-b19d-8a466c2d7a0c",
   "metadata": {},
   "source": [
    "* p-value < 0.05 : 그룹 A와 그룹 B의 평균 차이가 있다는 것을 알 수 있음\n",
    "* 통계값이 양수이므로 : A반 학생들의 성적이 더 좋다는 것을 알 수 있음"
   ]
  },
  {
   "cell_type": "markdown",
   "id": "63445fca-784b-4f56-88df-39013fd4f9d5",
   "metadata": {},
   "source": [
    "# tip. 다른 포맷의 데이터 처리"
   ]
  },
  {
   "cell_type": "markdown",
   "id": "64990395-7b80-4048-a448-9b23ee546c10",
   "metadata": {},
   "source": [
    "# 비즈니스 상황에서 적용"
   ]
  },
  {
   "cell_type": "markdown",
   "id": "fb02c5cb-06f4-47a3-9e6d-d05e07b67e57",
   "metadata": {},
   "source": [
    "- 단일 표본 t-검정, 독립표본 t-검정 관심 도메인에서 사용 예시 1개씩 찾아서 공유하기"
   ]
  },
  {
   "cell_type": "code",
   "execution_count": null,
   "id": "5a239ece-249a-46ac-a57a-9d3eeb2e95a2",
   "metadata": {},
   "outputs": [],
   "source": []
  }
 ],
 "metadata": {
  "kernelspec": {
   "display_name": "eda_env",
   "language": "python",
   "name": "eda_env"
  },
  "language_info": {
   "codemirror_mode": {
    "name": "ipython",
    "version": 3
   },
   "file_extension": ".py",
   "mimetype": "text/x-python",
   "name": "python",
   "nbconvert_exporter": "python",
   "pygments_lexer": "ipython3",
   "version": "3.10.19"
  }
 },
 "nbformat": 4,
 "nbformat_minor": 5
}

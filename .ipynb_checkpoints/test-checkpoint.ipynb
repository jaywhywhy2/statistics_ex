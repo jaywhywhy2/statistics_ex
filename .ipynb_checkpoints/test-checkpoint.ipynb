{
 "cells": [
  {
   "cell_type": "markdown",
   "id": "e755e26a-dd49-4ee0-9f61-823a36277eb6",
   "metadata": {},
   "source": [
    "# 주피터 노트북 테스트"
   ]
  },
  {
   "cell_type": "code",
   "execution_count": 1,
   "id": "0d748b45-fb6d-4112-b563-e7aa87dabef3",
   "metadata": {},
   "outputs": [
    {
     "name": "stdout",
     "output_type": "stream",
     "text": [
      "헬로\n"
     ]
    }
   ],
   "source": [
    "print(\"헬로\")"
   ]
  },
  {
   "cell_type": "markdown",
   "id": "c19f7721-2ddf-45d0-a3cc-f037e4b65384",
   "metadata": {},
   "source": [
    "esc > 입력 창에서 벗어나기\n",
    "enter > 선택 라인에서 입력 창으로 들어가기\n",
    "라인 선택 후 m > code 모드에서 markdown, c> 역\n",
    "즉, esc + m > markdown\n",
    "우측 위의 가상환경이나 default나 원하는 부분을 선택 가능\n",
    "esc + a > 윗쪽에 셀 추가"
   ]
  },
  {
   "cell_type": "markdown",
   "id": "81906fc9-a2c2-4b02-9853-893b752daddd",
   "metadata": {},
   "source": [
    "1. 1600~3500\n",
    "2. 2300\n",
    "3. 2400\n",
    "4. 2400"
   ]
  },
  {
   "cell_type": "code",
   "execution_count": null,
   "id": "e8a97f86-ff8c-4a14-917f-453a05ae9b4d",
   "metadata": {},
   "outputs": [],
   "source": []
  }
 ],
 "metadata": {
  "kernelspec": {
   "display_name": "eda_env",
   "language": "python",
   "name": "eda_env"
  },
  "language_info": {
   "codemirror_mode": {
    "name": "ipython",
    "version": 3
   },
   "file_extension": ".py",
   "mimetype": "text/x-python",
   "name": "python",
   "nbconvert_exporter": "python",
   "pygments_lexer": "ipython3",
   "version": "3.10.19"
  }
 },
 "nbformat": 4,
 "nbformat_minor": 5
}

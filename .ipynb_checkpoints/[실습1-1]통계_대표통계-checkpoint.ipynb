{
 "cells": [
  {
   "cell_type": "markdown",
   "id": "2670397d-7a26-419a-adcc-85de1b11cb84",
   "metadata": {},
   "source": [
    "# 대표 통계량"
   ]
  },
  {
   "cell_type": "code",
   "execution_count": 35,
   "id": "b29fda21-4655-41e4-9d9a-c0482041b96c",
   "metadata": {},
   "outputs": [],
   "source": [
    "import numpy as np\n",
    "from scipy import stats\n",
    "import pandas as pd\n",
    "#다른 사람이 짜놓은 라이브러리를 가져와서 설치하고 사용하는 방법. 그 중에서 numpy와 scipy와 pandas를 설치한 것.\n",
    "#이후 행에서 함수와"
   ]
  },
  {
   "cell_type": "markdown",
   "id": "9f48cf42-9124-4013-a6cb-cf84f7be3af5",
   "metadata": {},
   "source": [
    "#  산술평균 계산"
   ]
  },
  {
   "cell_type": "code",
   "execution_count": 15,
   "id": "022e0cb4-e6e6-4b8a-9c68-0d055f274959",
   "metadata": {},
   "outputs": [
    {
     "data": {
      "text/plain": [
       "np.float64(64.0)"
      ]
     },
     "execution_count": 15,
     "metadata": {},
     "output_type": "execute_result"
    }
   ],
   "source": [
    "# 성적 평균 구하기\n",
    "x = [70, 60, 80, 60, 50]\n",
    "\n",
    "##여러가지 방법 실습\n",
    "# sum(x) / len(x)\n",
    "#np.sum(x)/len(x) > np.float(64.0)으로 출력되는데, 그것은 print를 취하지는 않았지만 메모리에 64bit으로 저장되어 있다는 뜻\n",
    "##방법 중 데이터만 넣어서 할 수 있도록 하는 방법.\n",
    "# np.array(x).mean() >numpy를 활용한 구조\n",
    "# pd.Series(x).mean() >pandas의 1차원 데이터 구조를 \"series\"라고 이름을 붙임.\n",
    "##유형에 따라서 이름이 다름을 확인할 수 있음! 알아야 하는 부분!"
   ]
  },
  {
   "cell_type": "markdown",
   "id": "72f66cfd-e4c4-47b3-85d6-3763ee37a190",
   "metadata": {},
   "source": [
    "## 조화평균 구하기"
   ]
  },
  {
   "cell_type": "markdown",
   "id": "711e6c4e-20ab-4c8b-a0f6-45a9320b0e55",
   "metadata": {},
   "source": [
    "#상황: 두 생산 라인이 동일한 수의 제품(작업량)을 생산하지만, \n",
    "#각 라인의 처리 속도가 다를 때 평균 처리 속도를 계산하기\n",
    "\n",
    "#라인 A: 60개/시간, 라인 B: 30개/시간  → 동일 작업량(120개 제품 생산) 처리 시 평균 처리속도"
   ]
  },
  {
   "cell_type": "code",
   "execution_count": 31,
   "id": "79b33452-d79e-4dd7-954c-6bdc8a6576f1",
   "metadata": {},
   "outputs": [
    {
     "name": "stdout",
     "output_type": "stream",
     "text": [
      "45.0\n",
      "40.0\n",
      "40.0\n"
     ]
    }
   ],
   "source": [
    "x = np.array([60,30])\n",
    "print(np.mean(x))\n",
    "#시간에 평균 45개의 제품을 처리\n",
    "\n",
    "print(len(x)/(1/60+1/30))\n",
    "print(st.hmean(x))"
   ]
  },
  {
   "cell_type": "markdown",
   "id": "569355ae-6bf0-4144-957d-fc25765b6d50",
   "metadata": {},
   "source": [
    "## 절사평균"
   ]
  },
  {
   "cell_type": "code",
   "execution_count": 32,
   "id": "ac35f11e-eb7a-4db1-af62-97cc014b9b99",
   "metadata": {},
   "outputs": [
    {
     "name": "stdout",
     "output_type": "stream",
     "text": [
      "3013142.03\n"
     ]
    }
   ],
   "source": [
    "# 월 평균이 3백만원이고 표준편차가 50만원인 정규 분포를 따르는 소득을 갖는 100명 생성\n",
    "income = np.random.normal(3000000, 500000, 100) \n",
    "print(round(np.mean(income), 2))"
   ]
  },
  {
   "cell_type": "code",
   "execution_count": 36,
   "id": "6618cf95-f4c7-432a-a481-bd6e292f5b67",
   "metadata": {},
   "outputs": [
    {
     "data": {
      "text/plain": [
       "np.float64(3062503.5032116678)"
      ]
     },
     "execution_count": 36,
     "metadata": {},
     "output_type": "execute_result"
    }
   ],
   "source": [
    "stats.trim_mean(income, 0.2) # [20% ~ 80%]은 제외하고 계산"
   ]
  },
  {
   "cell_type": "markdown",
   "id": "890ef804-d634-47db-8320-fd8367a0bf73",
   "metadata": {},
   "source": [
    "## 최빈값 계산"
   ]
  },
  {
   "cell_type": "code",
   "execution_count": 42,
   "id": "24010258-0264-4716-9447-4a85dd7a9da7",
   "metadata": {},
   "outputs": [
    {
     "data": {
      "text/plain": [
       "array(['B', 'c', 'c', 'c', 'c', 'A', 'c', 'c', 'c', 'c', 'A', 'B', 'c',\n",
       "       'B', 'A', 'c', 'B', 'A', 'B', 'A'], dtype='<U1')"
      ]
     },
     "execution_count": 42,
     "metadata": {},
     "output_type": "execute_result"
    }
   ],
   "source": [
    "x = np.random.choice(['A', 'B', 'c'],20)\n",
    "x\n",
    "#랜덤으로 20개의 나열을 뽑아주는 것"
   ]
  },
  {
   "cell_type": "code",
   "execution_count": 39,
   "id": "5ef02ea0-50a5-469c-8178-bd3c562b0a07",
   "metadata": {},
   "outputs": [
    {
     "data": {
      "text/plain": [
       "1000"
      ]
     },
     "execution_count": 39,
     "metadata": {},
     "output_type": "execute_result"
    }
   ],
   "source": [
    "x = np.random.choice(['A', 'B', 'c'],1000)\n",
    "x[:5] #그 중 실제로 5개만 보여라\n",
    "len(x) #그러나 천개 모두 저장은 되어 있음"
   ]
  },
  {
   "cell_type": "code",
   "execution_count": 43,
   "id": "c42f1495-e0ba-44a7-b76f-ca9541fc48ab",
   "metadata": {},
   "outputs": [
    {
     "data": {
      "text/plain": [
       "array(['A', 'B', 'c'], dtype='<U1')"
      ]
     },
     "execution_count": 43,
     "metadata": {},
     "output_type": "execute_result"
    }
   ],
   "source": [
    "np.unique(x) #x라는 array에서 고유한 것들은 무엇인가, 그리고 뒤에 타입까지 보여주는 것"
   ]
  },
  {
   "cell_type": "code",
   "execution_count": 45,
   "id": "04429c33-f65c-466d-b6f5-e394db272afe",
   "metadata": {},
   "outputs": [
    {
     "data": {
      "text/plain": [
       "c    10\n",
       "B     5\n",
       "A     5\n",
       "Name: count, dtype: int64"
      ]
     },
     "execution_count": 45,
     "metadata": {},
     "output_type": "execute_result"
    }
   ],
   "source": [
    "pd.Series(x).value_counts()"
   ]
  },
  {
   "cell_type": "code",
   "execution_count": 46,
   "id": "5887ddba-7bde-4ac2-82a4-7eafbf0f5be9",
   "metadata": {},
   "outputs": [
    {
     "data": {
      "text/plain": [
       "'A'"
      ]
     },
     "execution_count": 46,
     "metadata": {},
     "output_type": "execute_result"
    }
   ],
   "source": [
    "pd.Series(x).value_counts().index[2]"
   ]
  },
  {
   "cell_type": "code",
   "execution_count": 47,
   "id": "f0d580f2-2abc-466e-93fd-5bc7228fd641",
   "metadata": {},
   "outputs": [
    {
     "data": {
      "text/plain": [
       "Counter({np.str_('c'): 10, np.str_('B'): 5, np.str_('A'): 5})"
      ]
     },
     "execution_count": 47,
     "metadata": {},
     "output_type": "execute_result"
    }
   ],
   "source": [
    "#python colelctions 사용 > 쓰겠다고 메모리에 올리는 것\n",
    "from collections import Counter\n",
    "Counter(x) #count 구조가 return한 딕셔너리 구조를 보여줌. "
   ]
  },
  {
   "cell_type": "code",
   "execution_count": 52,
   "id": "0356d832-f30f-4ad6-b216-f8271c8c9c70",
   "metadata": {},
   "outputs": [
    {
     "data": {
      "text/plain": [
       "[(np.str_('c'), 10)]"
      ]
     },
     "execution_count": 52,
     "metadata": {},
     "output_type": "execute_result"
    }
   ],
   "source": [
    "counter = Counter(x)   #counter라는 변수에 입력\n",
    "counter.most_common(1)   #최빈값(most common한 값 1번째를 출력해라)"
   ]
  },
  {
   "cell_type": "code",
   "execution_count": 53,
   "id": "bedd800c-3fd3-429f-8277-bd7c4e2bb894",
   "metadata": {},
   "outputs": [
    {
     "data": {
      "text/plain": [
       "(np.str_('c'), 10)"
      ]
     },
     "execution_count": 53,
     "metadata": {},
     "output_type": "execute_result"
    }
   ],
   "source": [
    "counter.most_common(1)[0]"
   ]
  },
  {
   "cell_type": "code",
   "execution_count": 58,
   "id": "ee6a24d3-045e-478b-ad07-306d8cd844eb",
   "metadata": {},
   "outputs": [
    {
     "name": "stdout",
     "output_type": "stream",
     "text": [
      "최빈값 : c,최빗갯수 : 10\n"
     ]
    }
   ],
   "source": [
    "mode_value, mode_cnt = counter.most_common(1)[0] #return값 순서에 따라 대입\n",
    "print(f\"최빈값 : {mode_value},최빗갯수 : {mode_cnt}\")  #f\"으로 시작하면 기본이 txt출력이고, {}로 값 value 불러오기"
   ]
  },
  {
   "cell_type": "markdown",
   "id": "e79e30d0-53eb-4b55-9538-d8dbb8a0f042",
   "metadata": {},
   "source": [
    "## 데이터의 대표값"
   ]
  },
  {
   "cell_type": "code",
   "execution_count": 65,
   "id": "be72677a-7c0a-4049-a3a1-ec472995df6a",
   "metadata": {},
   "outputs": [
    {
     "data": {
      "text/plain": [
       "array([4, 0, 3, 3, 3, 1, 3, 2, 4, 0], dtype=int32)"
      ]
     },
     "execution_count": 65,
     "metadata": {},
     "output_type": "execute_result"
    }
   ],
   "source": [
    "#데이터 생성\n",
    "np.random.randint(0,5,10) #실행시킬때마다 값이 바뀜"
   ]
  },
  {
   "cell_type": "code",
   "execution_count": 70,
   "id": "3ada5b28-8ddf-4c59-8ffd-0fea9f8e5853",
   "metadata": {},
   "outputs": [
    {
     "data": {
      "text/plain": [
       "array([2, 4, 0, 3, 3, 4, 0, 0, 2, 1], dtype=int32)"
      ]
     },
     "execution_count": 70,
     "metadata": {},
     "output_type": "execute_result"
    }
   ],
   "source": [
    "np.random.seed(2025) #그러나 초기값을 seed를 주면, 그 기반으로 랜덤하기 때문에 값이 바뀌지 않음\n",
    "np.random.randint(0,5,10)"
   ]
  },
  {
   "cell_type": "code",
   "execution_count": 71,
   "id": "0014c8e6-bd65-4b8d-83fc-d0c7b8cb2bf8",
   "metadata": {},
   "outputs": [
    {
     "data": {
      "text/plain": [
       "array([0, 0, 0, 1, 2, 2, 3, 3, 4, 4], dtype=int32)"
      ]
     },
     "execution_count": 71,
     "metadata": {},
     "output_type": "execute_result"
    }
   ],
   "source": [
    "data.sort()\n",
    "data  #SORTING시킨 것"
   ]
  },
  {
   "cell_type": "code",
   "execution_count": 74,
   "id": "822df7f9-86a2-4305-aa57-4ec1c16c948a",
   "metadata": {},
   "outputs": [
    {
     "name": "stdout",
     "output_type": "stream",
     "text": [
      "2.0\n"
     ]
    }
   ],
   "source": [
    "np.random.seed(2025) ; data = np.random.randint(0,5,10) #세미콜론을 쓰면 연달아 작성 가능\n",
    "mean_val = np.mean(data)\n",
    "median_val = np.median(data)  #중앙값이 짝수개일 경우 평균을 내어 보내줌.\n",
    "print(median_val)"
   ]
  },
  {
   "cell_type": "code",
   "execution_count": 75,
   "id": "ebdde950-6374-46f4-9f35-b32712f77ebd",
   "metadata": {},
   "outputs": [
    {
     "data": {
      "text/plain": [
       "ModeResult(mode=np.int32(0), count=np.int64(3))"
      ]
     },
     "execution_count": 75,
     "metadata": {},
     "output_type": "execute_result"
    }
   ],
   "source": [
    "stats.mode(data) #결과해석 : mode는 0이고 count는 3이다"
   ]
  },
  {
   "cell_type": "code",
   "execution_count": 83,
   "id": "21b3484e-2ac2-4c4c-8ebe-7f41914e64c2",
   "metadata": {},
   "outputs": [
    {
     "name": "stdout",
     "output_type": "stream",
     "text": [
      "최빈값 : 0, 최빈 갯수 3\n"
     ]
    }
   ],
   "source": [
    "mode_val = stats.mode(data)\n",
    "mode_val\n",
    "mode_val.mode #tap키를 눌러서 나오는 항목의 function과 그 외를 구분할 수 있음\n",
    "print(f\"최빈값 : {mode_value.mode}, 최빈 갯수 {mode_value.count}\")"
   ]
  },
  {
   "cell_type": "code",
   "execution_count": null,
   "id": "fde63cf7-c32c-4a42-a0d3-ede0e80aeb5e",
   "metadata": {},
   "outputs": [],
   "source": []
  }
 ],
 "metadata": {
  "kernelspec": {
   "display_name": "eda_env",
   "language": "python",
   "name": "eda_env"
  },
  "language_info": {
   "codemirror_mode": {
    "name": "ipython",
    "version": 3
   },
   "file_extension": ".py",
   "mimetype": "text/x-python",
   "name": "python",
   "nbconvert_exporter": "python",
   "pygments_lexer": "ipython3",
   "version": "3.10.19"
  }
 },
 "nbformat": 4,
 "nbformat_minor": 5
}

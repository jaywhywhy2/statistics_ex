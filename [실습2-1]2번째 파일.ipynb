{
 "cells": [
  {
   "cell_type": "markdown",
   "id": "2a1c4a15-71e5-43d6-83a0-b7957a4ab628",
   "metadata": {},
   "source": [
    "# 단일 표본 t 검정\n",
    "* txt 파일의 데이터를 읽어서 float형으로 형변환\n",
    "* 정규성 검정\n",
    "* kstest를 활용해 정규성 검정 진행"
   ]
  },
  {
   "cell_type": "code",
   "execution_count": 1,
   "id": "e43d9476-438c-40d8-aa18-bfd93e555fd5",
   "metadata": {},
   "outputs": [
    {
     "name": "stdout",
     "output_type": "stream",
     "text": [
      "[150.27, 142.94, 160.99, 157.48, 153.46, 137.5, 154.94, 159.51, 171.87, 143.69, 153.65, 160.25, 153.07, 154.42, 141.21, 154.17, 162.56, 164.44, 172.36, 141.51, 169.4, 167.97, 170.26, 157.8, 167.61]\n",
      "[150.27, 142.94, 160.99, 157.48, 153.46, 137.5, 154.94, 159.51, 171.87, 143.69, 153.65, 160.25, 153.07, 154.42, 141.21, 154.17, 162.56, 164.44, 172.36, 141.51, 169.4, 167.97, 170.26, 157.8, 167.61]\n"
     ]
    }
   ],
   "source": [
    "with open(\"./datas2/성인여성_키_데이터.txt\",\"r\") as f:\n",
    "    data = f.read().split(\"\\n\")\n",
    "    data = map(float,data) #리스트 요소가 문자열\n",
    "    data = list(data)\n",
    "    print(data)\n",
    "    print(list(data)) #map 함수의 결과를 list로 형변환 -> 출력"
   ]
  },
  {
   "cell_type": "code",
   "execution_count": 2,
   "id": "ed3e6ac8-6073-4e51-bf8b-301fa7b1c844",
   "metadata": {},
   "outputs": [
    {
     "data": {
      "text/plain": [
       "[150.27, 142.94, 160.99]"
      ]
     },
     "execution_count": 2,
     "metadata": {},
     "output_type": "execute_result"
    }
   ],
   "source": [
    "data[:3]"
   ]
  },
  {
   "cell_type": "code",
   "execution_count": 3,
   "id": "e55c1716-0cde-4739-9d7d-602c42538296",
   "metadata": {},
   "outputs": [
    {
     "data": {
      "text/plain": [
       "(np.float64(156.9332), np.float64(9.974187774450611))"
      ]
     },
     "execution_count": 3,
     "metadata": {},
     "output_type": "execute_result"
    }
   ],
   "source": [
    "from scipy import *\n",
    "from scipy import stats\n",
    "import numpy as np\n",
    "\n",
    "# 평균과 표준편차 계산\n",
    "mean_value = np.mean(data)\n",
    "std_dev = np.std(data, ddof=0)  # 모집단 표준편차(기본 설정)\n",
    "\n",
    "mean_value, std_dev"
   ]
  },
  {
   "cell_type": "markdown",
   "id": "6a05a9a8-fa18-4190-ab59-a5a530865e6d",
   "metadata": {},
   "source": [
    "## 가설 설정\n",
    "\n",
    "* 귀무가설: 표본 데이터의 평균은 163과 같다.\n",
    "* 대립가설: 표본 데이터의 평균은 163과 다르다.\n",
    "\n",
    "## 정규성 검정\n",
    "* 방법 1 : KS-test"
   ]
  },
  {
   "cell_type": "code",
   "execution_count": 4,
   "id": "a38f52d7-f2f9-4e05-9e7c-db46353e015a",
   "metadata": {},
   "outputs": [
    {
     "data": {
      "text/plain": [
       "(np.float64(0.10925974986314058), np.float64(0.8950958424230889))"
      ]
     },
     "execution_count": 4,
     "metadata": {},
     "output_type": "execute_result"
    }
   ],
   "source": [
    "# 정규성 검정, KS-test(Kolmogorov-Smirnov) 검정\n",
    "#  KS-test는 주어진 표본 데이터가 특정 이론적인 분포(예: 정규분포)를 따르는지 검정하는 방법\n",
    "\n",
    "# 'norm': 비교 대상이 되는 이론적인 분포를 지정 ('norm'은 정규분포)\n",
    "# args=(np.mean(data), np.std(data, ddof=0)): 표본 데이터의 평균과 표준편차를 사용하여 정규분포의 모수 설정\n",
    "ks_statistic, p_value = stats.kstest(data, 'norm', args=(np.mean(data), np.std(data, ddof=0)))\n",
    "ks_statistic, p_value"
   ]
  },
  {
   "cell_type": "markdown",
   "id": "3888b40d-2212-4e20-9fe6-00b380f71fb3",
   "metadata": {},
   "source": [
    "[결과 해석]\n",
    "\n",
    "* p-value > 0.05: 귀무가설을 기각하지 못함 → 데이터가 정규분포를 따르지 않는다 라고 말할 충분한 증거가 없음.\n",
    "* p-value <= 0.05: 귀무가설을 기각 → 데이터는 정규분포를 따르지 않는다고 판단.\n",
    "\n",
    "* 방법2 : Shapiro-Wilk 검정\n",
    "    * scipy.stats.shapiro()"
   ]
  },
  {
   "cell_type": "code",
   "execution_count": 5,
   "id": "df2780c0-db76-480f-ae8d-040c858e73f3",
   "metadata": {},
   "outputs": [
    {
     "data": {
      "text/plain": [
       "ShapiroResult(statistic=np.float64(0.9535807149342824), pvalue=np.float64(0.3014257470765011))"
      ]
     },
     "execution_count": 5,
     "metadata": {},
     "output_type": "execute_result"
    }
   ],
   "source": [
    "stats.shapiro(data) "
   ]
  },
  {
   "cell_type": "markdown",
   "id": "941db3bc-5d70-462f-9f90-50c8ac596d3c",
   "metadata": {},
   "source": [
    "[해설]\n",
    "\n",
    "* p-value > 0.05 : 정구분포를 따르지 않는다라고 말할 충분한 증거가 없음. 귀무가설 기각하지 않음\n",
    "\n",
    "\n",
    "  > 여기까지는 따라잡느라 놓친 부분 복습 필수"
   ]
  },
  {
   "cell_type": "markdown",
   "id": "c0909777-1470-4014-afa5-f2f4744fa031",
   "metadata": {},
   "source": [
    "# 단일 표본 T 검정하기"
   ]
  },
  {
   "cell_type": "code",
   "execution_count": 9,
   "id": "882203ba-0931-4c1b-9497-9a6bea54caf2",
   "metadata": {},
   "outputs": [
    {
     "ename": "NameError",
     "evalue": "name 'ttest_1samp' is not defined",
     "output_type": "error",
     "traceback": [
      "\u001b[31m---------------------------------------------------------------------------\u001b[39m",
      "\u001b[31mNameError\u001b[39m                                 Traceback (most recent call last)",
      "\u001b[36mCell\u001b[39m\u001b[36m \u001b[39m\u001b[32mIn[9]\u001b[39m\u001b[32m, line 1\u001b[39m\n\u001b[32m----> \u001b[39m\u001b[32m1\u001b[39m \u001b[43mttest_1samp\u001b[49m(data,\u001b[32m163\u001b[39m)  \u001b[38;5;66;03m##왜 자꾸 이 지랄이 나는 겁니까.\u001b[39;00m\n",
      "\u001b[31mNameError\u001b[39m: name 'ttest_1samp' is not defined"
     ]
    }
   ],
   "source": [
    "ttest_1samp(data,163)  ##왜 자꾸 이 지랄이 나는 겁니까."
   ]
  },
  {
   "cell_type": "markdown",
   "id": "fb750624-66d8-413f-acaa-f126411a4980",
   "metadata": {},
   "source": [
    "# 단일 표본 T 검정하기"
   ]
  },
  {
   "cell_type": "markdown",
   "id": "d736b844-8343-4f06-a227-1fb73b23ffef",
   "metadata": {},
   "source": [
    "* 두 그룹 a, b의 차이를 검증할 때 사용하는 검증 방법\n",
    "* 문제 : a, b반의 점수 차이가 있는 지 검증하기\n",
    "* [가설 설정]\n",
    "* h0 : a반과 b반의 평균은 같다.\n",
    "* h1 : a반과 b반의 평균은 다르다.\n",
    "* 다르다 = 양측 검증 높/낮다 = 단층 검증"
   ]
  },
  {
   "cell_type": "code",
   "execution_count": 12,
   "id": "c410f4fa-a257-470e-bb4a-111772ae7644",
   "metadata": {},
   "outputs": [
    {
     "ename": "ModuleNotFoundError",
     "evalue": "No module named 'pandas'",
     "output_type": "error",
     "traceback": [
      "\u001b[31m---------------------------------------------------------------------------\u001b[39m",
      "\u001b[31mModuleNotFoundError\u001b[39m                       Traceback (most recent call last)",
      "\u001b[36mCell\u001b[39m\u001b[36m \u001b[39m\u001b[32mIn[12]\u001b[39m\u001b[32m, line 1\u001b[39m\n\u001b[32m----> \u001b[39m\u001b[32m1\u001b[39m \u001b[38;5;28;01mimport\u001b[39;00m\u001b[38;5;250m \u001b[39m\u001b[34;01mpandas\u001b[39;00m\u001b[38;5;250m \u001b[39m\u001b[38;5;28;01mas\u001b[39;00m\u001b[38;5;250m \u001b[39m\u001b[34;01mpd\u001b[39;00m\n\u001b[32m      2\u001b[39m \u001b[38;5;28;01mimport\u001b[39;00m\u001b[38;5;250m \u001b[39m\u001b[34;01mnumpy\u001b[39;00m\u001b[38;5;250m \u001b[39m\u001b[38;5;28;01mas\u001b[39;00m\u001b[38;5;250m \u001b[39m\u001b[34;01mnp\u001b[39;00m\n",
      "\u001b[31mModuleNotFoundError\u001b[39m: No module named 'pandas'"
     ]
    }
   ],
   "source": [
    "import pandas as pd\n",
    "import numpy as np"
   ]
  },
  {
   "cell_type": "code",
   "execution_count": null,
   "id": "eb52cb65-f1f6-41e1-8acd-6f82704464ab",
   "metadata": {},
   "outputs": [],
   "source": []
  }
 ],
 "metadata": {
  "kernelspec": {
   "display_name": "Python 3 (ipykernel)",
   "language": "python",
   "name": "python3"
  },
  "language_info": {
   "codemirror_mode": {
    "name": "ipython",
    "version": 3
   },
   "file_extension": ".py",
   "mimetype": "text/x-python",
   "name": "python",
   "nbconvert_exporter": "python",
   "pygments_lexer": "ipython3",
   "version": "3.13.5"
  }
 },
 "nbformat": 4,
 "nbformat_minor": 5
}
